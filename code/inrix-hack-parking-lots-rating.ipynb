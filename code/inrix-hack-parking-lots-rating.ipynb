{
 "cells": [
  {
   "cell_type": "markdown",
   "id": "0ea8e965",
   "metadata": {
    "papermill": {
     "duration": 0.012669,
     "end_time": "2023-12-03T11:34:45.522752",
     "exception": false,
     "start_time": "2023-12-03T11:34:45.510083",
     "status": "completed"
    },
    "tags": []
   },
   "source": [
    "The first part is done by Haoquan Fang."
   ]
  },
  {
   "cell_type": "markdown",
   "id": "09d1ed95",
   "metadata": {
    "papermill": {
     "duration": 0.011018,
     "end_time": "2023-12-03T11:34:45.544620",
     "exception": false,
     "start_time": "2023-12-03T11:34:45.533602",
     "status": "completed"
    },
    "tags": []
   },
   "source": [
    "# Import Libraries"
   ]
  },
  {
   "cell_type": "code",
   "execution_count": 1,
   "id": "5ab845da",
   "metadata": {
    "execution": {
     "iopub.execute_input": "2023-12-03T11:34:45.568176Z",
     "iopub.status.busy": "2023-12-03T11:34:45.567415Z",
     "iopub.status.idle": "2023-12-03T11:34:47.370158Z",
     "shell.execute_reply": "2023-12-03T11:34:47.369178Z"
    },
    "papermill": {
     "duration": 1.817664,
     "end_time": "2023-12-03T11:34:47.372885",
     "exception": false,
     "start_time": "2023-12-03T11:34:45.555221",
     "status": "completed"
    },
    "tags": []
   },
   "outputs": [],
   "source": [
    "import numpy as np # linear algebra\n",
    "import pandas as pd # data processing, CSV file I/O (e.g. pd.read_csv)\n",
    "import os\n",
    "import json\n",
    "from math import radians, cos, sin, asin, sqrt\n",
    "from sklearn.preprocessing import StandardScaler\n",
    "from sklearn.model_selection import KFold as KF, train_test_split\n",
    "from sklearn.ensemble import RandomForestRegressor, GradientBoostingRegressor\n",
    "from sklearn.linear_model import LinearRegression\n",
    "from sklearn.tree import DecisionTreeRegressor\n",
    "from sklearn.svm import SVR\n",
    "from sklearn.metrics import mean_squared_error"
   ]
  },
  {
   "cell_type": "markdown",
   "id": "dd7b2a21",
   "metadata": {
    "papermill": {
     "duration": 0.010158,
     "end_time": "2023-12-03T11:34:47.393539",
     "exception": false,
     "start_time": "2023-12-03T11:34:47.383381",
     "status": "completed"
    },
    "tags": []
   },
   "source": [
    "# Data Preprocessing"
   ]
  },
  {
   "cell_type": "code",
   "execution_count": 2,
   "id": "4e81c666",
   "metadata": {
    "execution": {
     "iopub.execute_input": "2023-12-03T11:34:47.416188Z",
     "iopub.status.busy": "2023-12-03T11:34:47.415649Z",
     "iopub.status.idle": "2023-12-03T11:34:47.425627Z",
     "shell.execute_reply": "2023-12-03T11:34:47.424559Z"
    },
    "papermill": {
     "duration": 0.024332,
     "end_time": "2023-12-03T11:34:47.428091",
     "exception": false,
     "start_time": "2023-12-03T11:34:47.403759",
     "status": "completed"
    },
    "tags": []
   },
   "outputs": [],
   "source": [
    "def get_locations():\n",
    "    locations = []\n",
    "    dir_list = os.listdir('/kaggle/input/inrix-hack-dataset/lots')\n",
    "    \n",
    "    for i in range(len(dir_list)):\n",
    "        if (dir_list[i][-4:] == 'json'):\n",
    "            with open('/kaggle/input/inrix-hack-dataset/lots/' + dir_list[i], 'r') as file:\n",
    "                # Load JSON data into a Python variable\n",
    "                data = json.load(file)\n",
    "            \n",
    "            for k in range(len(data['result'])):\n",
    "                if len(data['result'][k]['peps']) == 1:\n",
    "                    locations.append(data['result'][k]['peps'][0]['pepPt'])\n",
    "                else:\n",
    "                    for j in range(len(data['result'][k]['peps'])):\n",
    "                        if data['result'][k]['peps'][j]['pepPrimary']:\n",
    "                            locations.append(data['result'][k]['peps'][j]['pepPt'])\n",
    "                            break\n",
    "    df = pd.DataFrame(locations, columns=['long','lat'])                        \n",
    "    return df"
   ]
  },
  {
   "cell_type": "markdown",
   "id": "ad9a3bcf",
   "metadata": {
    "papermill": {
     "duration": 0.010429,
     "end_time": "2023-12-03T11:34:47.449106",
     "exception": false,
     "start_time": "2023-12-03T11:34:47.438677",
     "status": "completed"
    },
    "tags": []
   },
   "source": [
    "## Get Parking Lots Features"
   ]
  },
  {
   "cell_type": "code",
   "execution_count": 3,
   "id": "05e6131d",
   "metadata": {
    "execution": {
     "iopub.execute_input": "2023-12-03T11:34:47.472971Z",
     "iopub.status.busy": "2023-12-03T11:34:47.471704Z",
     "iopub.status.idle": "2023-12-03T11:34:47.487712Z",
     "shell.execute_reply": "2023-12-03T11:34:47.486725Z"
    },
    "papermill": {
     "duration": 0.030471,
     "end_time": "2023-12-03T11:34:47.490102",
     "exception": false,
     "start_time": "2023-12-03T11:34:47.459631",
     "status": "completed"
    },
    "tags": []
   },
   "outputs": [],
   "source": [
    "def get_one_lots(data):\n",
    "    df = pd.DataFrame({\n",
    "        'id': [],\n",
    "        'pct': [],\n",
    "        'probability': [],\n",
    "#         'rank': [],\n",
    "#         'bucket': [],\n",
    "        'available': [],\n",
    "        'distance': [],\n",
    "        'price': [],\n",
    "        'stars': [],\n",
    "        'long': [],\n",
    "        'lat': [],\n",
    "    })\n",
    "#     df.columns = ['pct', 'probability', 'rank', 'bucket', 'available', 'distance', 'price', 'stars']\n",
    "    \n",
    "    for i in range(len(data['result'])):\n",
    "        l = []\n",
    "        l.append(data['result'][i]['id'])\n",
    "        l.append(data['result'][i]['occupancy']['pct'])\n",
    "        \n",
    "        l.append(data['result'][i]['occupancy']['probability'])\n",
    "#         l.append(data['result'][i]['occupancy']['rank'])\n",
    "#         l.append(data['result'][i]['occupancy']['bucket'])\n",
    "        l.append(data['result'][i]['occupancy']['available'])\n",
    "        l.append(data['result'][i]['distance'])\n",
    "        \n",
    "        if data['result'][i]['costIndex'] is None: \n",
    "            l.append(-1) \n",
    "        else: \n",
    "            l.append(data['result'][i]['costIndex'])\n",
    "        \n",
    "        if len(data['result'][i]['reviews']) == 0: \n",
    "            l.append(-1)\n",
    "        else:\n",
    "            score = 0.0\n",
    "            for j in range(len(data['result'][i]['reviews'])):\n",
    "                score += data['result'][i]['reviews'][j]['stars']\n",
    "            score /= len(data['result'][i]['reviews'])\n",
    "            l.append(score)\n",
    "            \n",
    "        if len(data['result'][i]['peps']) == 1:\n",
    "            l.append(data['result'][i]['peps'][0]['pepPt'][0])\n",
    "            l.append(data['result'][i]['peps'][0]['pepPt'][1])\n",
    "        else:\n",
    "            for j in range(len(data['result'][i]['peps'])):\n",
    "                if data['result'][i]['peps'][j]['pepPrimary']:\n",
    "                    l.append(data['result'][i]['peps'][j]['pepPt'][0])\n",
    "                    l.append(data['result'][i]['peps'][j]['pepPt'][1])\n",
    "                    break\n",
    "        \n",
    "        df.loc[i] = l\n",
    "    \n",
    "    return df"
   ]
  },
  {
   "cell_type": "code",
   "execution_count": 4,
   "id": "994b69fe",
   "metadata": {
    "execution": {
     "iopub.execute_input": "2023-12-03T11:34:47.513514Z",
     "iopub.status.busy": "2023-12-03T11:34:47.513084Z",
     "iopub.status.idle": "2023-12-03T11:34:47.521882Z",
     "shell.execute_reply": "2023-12-03T11:34:47.520814Z"
    },
    "papermill": {
     "duration": 0.023017,
     "end_time": "2023-12-03T11:34:47.524062",
     "exception": false,
     "start_time": "2023-12-03T11:34:47.501045",
     "status": "completed"
    },
    "tags": []
   },
   "outputs": [],
   "source": [
    "def get_all_lots():\n",
    "    df = pd.DataFrame({\n",
    "        'id': [],\n",
    "        'pct': [],\n",
    "        'probability': [],\n",
    "#         'rank': [],\n",
    "#         'bucket': [],\n",
    "        'available': [],\n",
    "        'distance': [],\n",
    "        'price': [],\n",
    "        'stars': [],\n",
    "        'long': [],\n",
    "        'lat': [],\n",
    "    })\n",
    "    \n",
    "    dir_list = os.listdir('/kaggle/input/inrix-hack-dataset/lots')\n",
    "    \n",
    "    for i in range(len(dir_list)):\n",
    "        with open(('/kaggle/input/inrix-hack-dataset/lots/' + dir_list[i]), 'r') as file:\n",
    "            # Load JSON data into a Python variable\n",
    "            data = json.load(file)\n",
    "        df_temp = get_one_lots(data)\n",
    "        df = pd.concat([df, df_temp], ignore_index=True)\n",
    "    \n",
    "    df = df.drop_duplicates()\n",
    "    df = df.reset_index()\n",
    "    df = df.drop(columns=['index'])\n",
    "    \n",
    "    return df"
   ]
  },
  {
   "cell_type": "code",
   "execution_count": 5,
   "id": "c0ca8895",
   "metadata": {
    "execution": {
     "iopub.execute_input": "2023-12-03T11:34:47.546887Z",
     "iopub.status.busy": "2023-12-03T11:34:47.546488Z",
     "iopub.status.idle": "2023-12-03T11:34:51.198107Z",
     "shell.execute_reply": "2023-12-03T11:34:51.197195Z"
    },
    "papermill": {
     "duration": 3.671169,
     "end_time": "2023-12-03T11:34:51.205828",
     "exception": false,
     "start_time": "2023-12-03T11:34:47.534659",
     "status": "completed"
    },
    "tags": []
   },
   "outputs": [
    {
     "data": {
      "text/html": [
       "<div>\n",
       "<style scoped>\n",
       "    .dataframe tbody tr th:only-of-type {\n",
       "        vertical-align: middle;\n",
       "    }\n",
       "\n",
       "    .dataframe tbody tr th {\n",
       "        vertical-align: top;\n",
       "    }\n",
       "\n",
       "    .dataframe thead th {\n",
       "        text-align: right;\n",
       "    }\n",
       "</style>\n",
       "<table border=\"1\" class=\"dataframe\">\n",
       "  <thead>\n",
       "    <tr style=\"text-align: right;\">\n",
       "      <th></th>\n",
       "      <th>id</th>\n",
       "      <th>pct</th>\n",
       "      <th>probability</th>\n",
       "      <th>available</th>\n",
       "      <th>distance</th>\n",
       "      <th>price</th>\n",
       "      <th>stars</th>\n",
       "      <th>long</th>\n",
       "      <th>lat</th>\n",
       "    </tr>\n",
       "  </thead>\n",
       "  <tbody>\n",
       "    <tr>\n",
       "      <th>0</th>\n",
       "      <td>22110.0</td>\n",
       "      <td>41.0</td>\n",
       "      <td>83.0</td>\n",
       "      <td>61.0</td>\n",
       "      <td>843.0</td>\n",
       "      <td>3.0</td>\n",
       "      <td>-1.0</td>\n",
       "      <td>-122.419643</td>\n",
       "      <td>37.771486</td>\n",
       "    </tr>\n",
       "    <tr>\n",
       "      <th>1</th>\n",
       "      <td>27080.0</td>\n",
       "      <td>53.0</td>\n",
       "      <td>71.0</td>\n",
       "      <td>15.0</td>\n",
       "      <td>848.0</td>\n",
       "      <td>1.0</td>\n",
       "      <td>-1.0</td>\n",
       "      <td>-122.422446</td>\n",
       "      <td>37.772059</td>\n",
       "    </tr>\n",
       "    <tr>\n",
       "      <th>2</th>\n",
       "      <td>113004.0</td>\n",
       "      <td>40.0</td>\n",
       "      <td>84.0</td>\n",
       "      <td>34.0</td>\n",
       "      <td>905.0</td>\n",
       "      <td>3.0</td>\n",
       "      <td>-1.0</td>\n",
       "      <td>-122.420145</td>\n",
       "      <td>37.771240</td>\n",
       "    </tr>\n",
       "    <tr>\n",
       "      <th>3</th>\n",
       "      <td>28924.0</td>\n",
       "      <td>36.0</td>\n",
       "      <td>87.0</td>\n",
       "      <td>569.0</td>\n",
       "      <td>946.0</td>\n",
       "      <td>3.0</td>\n",
       "      <td>1.0</td>\n",
       "      <td>-122.415603</td>\n",
       "      <td>37.771280</td>\n",
       "    </tr>\n",
       "    <tr>\n",
       "      <th>4</th>\n",
       "      <td>401837.0</td>\n",
       "      <td>42.0</td>\n",
       "      <td>82.0</td>\n",
       "      <td>14.0</td>\n",
       "      <td>916.0</td>\n",
       "      <td>0.0</td>\n",
       "      <td>-1.0</td>\n",
       "      <td>-122.419293</td>\n",
       "      <td>37.787776</td>\n",
       "    </tr>\n",
       "    <tr>\n",
       "      <th>...</th>\n",
       "      <td>...</td>\n",
       "      <td>...</td>\n",
       "      <td>...</td>\n",
       "      <td>...</td>\n",
       "      <td>...</td>\n",
       "      <td>...</td>\n",
       "      <td>...</td>\n",
       "      <td>...</td>\n",
       "      <td>...</td>\n",
       "    </tr>\n",
       "    <tr>\n",
       "      <th>3512</th>\n",
       "      <td>27441.0</td>\n",
       "      <td>35.0</td>\n",
       "      <td>87.0</td>\n",
       "      <td>7.0</td>\n",
       "      <td>936.0</td>\n",
       "      <td>4.0</td>\n",
       "      <td>-1.0</td>\n",
       "      <td>-122.410793</td>\n",
       "      <td>37.792225</td>\n",
       "    </tr>\n",
       "    <tr>\n",
       "      <th>3513</th>\n",
       "      <td>84299.0</td>\n",
       "      <td>50.0</td>\n",
       "      <td>75.0</td>\n",
       "      <td>30.0</td>\n",
       "      <td>879.0</td>\n",
       "      <td>-1.0</td>\n",
       "      <td>-1.0</td>\n",
       "      <td>-122.411830</td>\n",
       "      <td>37.792512</td>\n",
       "    </tr>\n",
       "    <tr>\n",
       "      <th>3514</th>\n",
       "      <td>28169.0</td>\n",
       "      <td>39.0</td>\n",
       "      <td>84.0</td>\n",
       "      <td>6.0</td>\n",
       "      <td>875.0</td>\n",
       "      <td>-1.0</td>\n",
       "      <td>-1.0</td>\n",
       "      <td>-122.382103</td>\n",
       "      <td>37.738597</td>\n",
       "    </tr>\n",
       "    <tr>\n",
       "      <th>3515</th>\n",
       "      <td>27348.0</td>\n",
       "      <td>45.0</td>\n",
       "      <td>79.0</td>\n",
       "      <td>22.0</td>\n",
       "      <td>399.0</td>\n",
       "      <td>1.0</td>\n",
       "      <td>-1.0</td>\n",
       "      <td>-122.385939</td>\n",
       "      <td>37.744220</td>\n",
       "    </tr>\n",
       "    <tr>\n",
       "      <th>3516</th>\n",
       "      <td>27341.0</td>\n",
       "      <td>37.0</td>\n",
       "      <td>86.0</td>\n",
       "      <td>12.0</td>\n",
       "      <td>932.0</td>\n",
       "      <td>-1.0</td>\n",
       "      <td>-1.0</td>\n",
       "      <td>-122.381202</td>\n",
       "      <td>37.738364</td>\n",
       "    </tr>\n",
       "  </tbody>\n",
       "</table>\n",
       "<p>3517 rows × 9 columns</p>\n",
       "</div>"
      ],
      "text/plain": [
       "            id   pct  probability  available  distance  price  stars  \\\n",
       "0      22110.0  41.0         83.0       61.0     843.0    3.0   -1.0   \n",
       "1      27080.0  53.0         71.0       15.0     848.0    1.0   -1.0   \n",
       "2     113004.0  40.0         84.0       34.0     905.0    3.0   -1.0   \n",
       "3      28924.0  36.0         87.0      569.0     946.0    3.0    1.0   \n",
       "4     401837.0  42.0         82.0       14.0     916.0    0.0   -1.0   \n",
       "...        ...   ...          ...        ...       ...    ...    ...   \n",
       "3512   27441.0  35.0         87.0        7.0     936.0    4.0   -1.0   \n",
       "3513   84299.0  50.0         75.0       30.0     879.0   -1.0   -1.0   \n",
       "3514   28169.0  39.0         84.0        6.0     875.0   -1.0   -1.0   \n",
       "3515   27348.0  45.0         79.0       22.0     399.0    1.0   -1.0   \n",
       "3516   27341.0  37.0         86.0       12.0     932.0   -1.0   -1.0   \n",
       "\n",
       "            long        lat  \n",
       "0    -122.419643  37.771486  \n",
       "1    -122.422446  37.772059  \n",
       "2    -122.420145  37.771240  \n",
       "3    -122.415603  37.771280  \n",
       "4    -122.419293  37.787776  \n",
       "...          ...        ...  \n",
       "3512 -122.410793  37.792225  \n",
       "3513 -122.411830  37.792512  \n",
       "3514 -122.382103  37.738597  \n",
       "3515 -122.385939  37.744220  \n",
       "3516 -122.381202  37.738364  \n",
       "\n",
       "[3517 rows x 9 columns]"
      ]
     },
     "execution_count": 5,
     "metadata": {},
     "output_type": "execute_result"
    }
   ],
   "source": [
    "lots = get_all_lots()\n",
    "lots"
   ]
  },
  {
   "cell_type": "code",
   "execution_count": 6,
   "id": "7494a23c",
   "metadata": {
    "execution": {
     "iopub.execute_input": "2023-12-03T11:34:51.240511Z",
     "iopub.status.busy": "2023-12-03T11:34:51.239804Z",
     "iopub.status.idle": "2023-12-03T11:34:51.292215Z",
     "shell.execute_reply": "2023-12-03T11:34:51.290976Z"
    },
    "papermill": {
     "duration": 0.073326,
     "end_time": "2023-12-03T11:34:51.295764",
     "exception": false,
     "start_time": "2023-12-03T11:34:51.222438",
     "status": "completed"
    },
    "tags": []
   },
   "outputs": [],
   "source": [
    "lots.to_csv('parking.csv', index=False)"
   ]
  },
  {
   "cell_type": "markdown",
   "id": "1475403b",
   "metadata": {
    "papermill": {
     "duration": 0.011129,
     "end_time": "2023-12-03T11:34:51.322404",
     "exception": false,
     "start_time": "2023-12-03T11:34:51.311275",
     "status": "completed"
    },
    "tags": []
   },
   "source": [
    "## Get Safety Alerts Features"
   ]
  },
  {
   "cell_type": "code",
   "execution_count": 7,
   "id": "a7f3e052",
   "metadata": {
    "execution": {
     "iopub.execute_input": "2023-12-03T11:34:51.348473Z",
     "iopub.status.busy": "2023-12-03T11:34:51.347689Z",
     "iopub.status.idle": "2023-12-03T11:34:51.358074Z",
     "shell.execute_reply": "2023-12-03T11:34:51.356945Z"
    },
    "papermill": {
     "duration": 0.026796,
     "end_time": "2023-12-03T11:34:51.360692",
     "exception": false,
     "start_time": "2023-12-03T11:34:51.333896",
     "status": "completed"
    },
    "tags": []
   },
   "outputs": [],
   "source": [
    "def get_one_incidents(data):\n",
    "    \n",
    "    df = pd.DataFrame({\n",
    "        'id': [],\n",
    "        'type': [],\n",
    "        'severity': [],\n",
    "        'long': [],\n",
    "        'lat': [],\n",
    "    })\n",
    "    \n",
    "    for i in range(len(data['result']['incidents'])):\n",
    "        l = []\n",
    "        l.append(data['result']['incidents'][i]['id'])\n",
    "        l.append(data['result']['incidents'][i]['type'])\n",
    "        l.append(data['result']['incidents'][i]['severity'])\n",
    "        l.append(data['result']['incidents'][i]['geometry']['coordinates'][0])\n",
    "        l.append(data['result']['incidents'][i]['geometry']['coordinates'][1])\n",
    "        df.loc[i] = l\n",
    "    \n",
    "    return df"
   ]
  },
  {
   "cell_type": "code",
   "execution_count": 8,
   "id": "2098cc79",
   "metadata": {
    "execution": {
     "iopub.execute_input": "2023-12-03T11:34:51.394305Z",
     "iopub.status.busy": "2023-12-03T11:34:51.393592Z",
     "iopub.status.idle": "2023-12-03T11:34:51.401690Z",
     "shell.execute_reply": "2023-12-03T11:34:51.400826Z"
    },
    "papermill": {
     "duration": 0.027893,
     "end_time": "2023-12-03T11:34:51.404538",
     "exception": false,
     "start_time": "2023-12-03T11:34:51.376645",
     "status": "completed"
    },
    "tags": []
   },
   "outputs": [],
   "source": [
    "def get_all_incidents():\n",
    "    \n",
    "    df = pd.DataFrame({\n",
    "        'id': [],\n",
    "        'type': [],\n",
    "        'severity': [],\n",
    "        'long': [],\n",
    "        'lat': [],\n",
    "    })\n",
    "    \n",
    "    dir_list = os.listdir('/kaggle/input/inrix-hack-dataset/incidents')\n",
    "    \n",
    "    for i in range(len(dir_list)):\n",
    "        with open(('/kaggle/input/inrix-hack-dataset/incidents/' + dir_list[i]), 'r') as file:\n",
    "            # Load JSON data into a Python variable\n",
    "            data = json.load(file)\n",
    "        df_temp = get_one_incidents(data)\n",
    "        df = pd.concat([df, df_temp], ignore_index=True)\n",
    "    \n",
    "    df = df.drop_duplicates()\n",
    "    df = df.reset_index()\n",
    "    df = df.drop(columns=['index'])\n",
    "    \n",
    "    return df"
   ]
  },
  {
   "cell_type": "code",
   "execution_count": 9,
   "id": "8193d747",
   "metadata": {
    "execution": {
     "iopub.execute_input": "2023-12-03T11:34:51.432948Z",
     "iopub.status.busy": "2023-12-03T11:34:51.431752Z",
     "iopub.status.idle": "2023-12-03T11:35:21.080546Z",
     "shell.execute_reply": "2023-12-03T11:35:21.079370Z"
    },
    "papermill": {
     "duration": 29.663919,
     "end_time": "2023-12-03T11:35:21.083036",
     "exception": false,
     "start_time": "2023-12-03T11:34:51.419117",
     "status": "completed"
    },
    "tags": []
   },
   "outputs": [
    {
     "data": {
      "text/html": [
       "<div>\n",
       "<style scoped>\n",
       "    .dataframe tbody tr th:only-of-type {\n",
       "        vertical-align: middle;\n",
       "    }\n",
       "\n",
       "    .dataframe tbody tr th {\n",
       "        vertical-align: top;\n",
       "    }\n",
       "\n",
       "    .dataframe thead th {\n",
       "        text-align: right;\n",
       "    }\n",
       "</style>\n",
       "<table border=\"1\" class=\"dataframe\">\n",
       "  <thead>\n",
       "    <tr style=\"text-align: right;\">\n",
       "      <th></th>\n",
       "      <th>id</th>\n",
       "      <th>type</th>\n",
       "      <th>severity</th>\n",
       "      <th>long</th>\n",
       "      <th>lat</th>\n",
       "    </tr>\n",
       "  </thead>\n",
       "  <tbody>\n",
       "    <tr>\n",
       "      <th>0</th>\n",
       "      <td>151490618.0</td>\n",
       "      <td>1</td>\n",
       "      <td>0</td>\n",
       "      <td>-120.872314</td>\n",
       "      <td>35.793649</td>\n",
       "    </tr>\n",
       "    <tr>\n",
       "      <th>1</th>\n",
       "      <td>153229881.0</td>\n",
       "      <td>1</td>\n",
       "      <td>1</td>\n",
       "      <td>-117.301650</td>\n",
       "      <td>37.045113</td>\n",
       "    </tr>\n",
       "    <tr>\n",
       "      <th>2</th>\n",
       "      <td>155128866.0</td>\n",
       "      <td>1</td>\n",
       "      <td>2</td>\n",
       "      <td>-122.456690</td>\n",
       "      <td>38.553080</td>\n",
       "    </tr>\n",
       "    <tr>\n",
       "      <th>3</th>\n",
       "      <td>159703362.0</td>\n",
       "      <td>1</td>\n",
       "      <td>2</td>\n",
       "      <td>-121.104400</td>\n",
       "      <td>38.938570</td>\n",
       "    </tr>\n",
       "    <tr>\n",
       "      <th>4</th>\n",
       "      <td>162192277.0</td>\n",
       "      <td>1</td>\n",
       "      <td>1</td>\n",
       "      <td>-119.564920</td>\n",
       "      <td>36.137970</td>\n",
       "    </tr>\n",
       "    <tr>\n",
       "      <th>...</th>\n",
       "      <td>...</td>\n",
       "      <td>...</td>\n",
       "      <td>...</td>\n",
       "      <td>...</td>\n",
       "      <td>...</td>\n",
       "    </tr>\n",
       "    <tr>\n",
       "      <th>892</th>\n",
       "      <td>183131859.0</td>\n",
       "      <td>3</td>\n",
       "      <td>2</td>\n",
       "      <td>-122.250760</td>\n",
       "      <td>37.813941</td>\n",
       "    </tr>\n",
       "    <tr>\n",
       "      <th>893</th>\n",
       "      <td>183131901.0</td>\n",
       "      <td>3</td>\n",
       "      <td>2</td>\n",
       "      <td>-121.901932</td>\n",
       "      <td>37.371972</td>\n",
       "    </tr>\n",
       "    <tr>\n",
       "      <th>894</th>\n",
       "      <td>183132128.0</td>\n",
       "      <td>3</td>\n",
       "      <td>1</td>\n",
       "      <td>-122.228586</td>\n",
       "      <td>37.773332</td>\n",
       "    </tr>\n",
       "    <tr>\n",
       "      <th>895</th>\n",
       "      <td>183132129.0</td>\n",
       "      <td>3</td>\n",
       "      <td>2</td>\n",
       "      <td>-121.979902</td>\n",
       "      <td>37.517277</td>\n",
       "    </tr>\n",
       "    <tr>\n",
       "      <th>896</th>\n",
       "      <td>183132157.0</td>\n",
       "      <td>3</td>\n",
       "      <td>1</td>\n",
       "      <td>-122.158320</td>\n",
       "      <td>37.892820</td>\n",
       "    </tr>\n",
       "  </tbody>\n",
       "</table>\n",
       "<p>897 rows × 5 columns</p>\n",
       "</div>"
      ],
      "text/plain": [
       "              id type severity        long        lat\n",
       "0    151490618.0    1        0 -120.872314  35.793649\n",
       "1    153229881.0    1        1 -117.301650  37.045113\n",
       "2    155128866.0    1        2 -122.456690  38.553080\n",
       "3    159703362.0    1        2 -121.104400  38.938570\n",
       "4    162192277.0    1        1 -119.564920  36.137970\n",
       "..           ...  ...      ...         ...        ...\n",
       "892  183131859.0    3        2 -122.250760  37.813941\n",
       "893  183131901.0    3        2 -121.901932  37.371972\n",
       "894  183132128.0    3        1 -122.228586  37.773332\n",
       "895  183132129.0    3        2 -121.979902  37.517277\n",
       "896  183132157.0    3        1 -122.158320  37.892820\n",
       "\n",
       "[897 rows x 5 columns]"
      ]
     },
     "execution_count": 9,
     "metadata": {},
     "output_type": "execute_result"
    }
   ],
   "source": [
    "incidents = get_all_incidents()\n",
    "incidents"
   ]
  },
  {
   "cell_type": "markdown",
   "id": "8f68be3d",
   "metadata": {
    "papermill": {
     "duration": 0.010786,
     "end_time": "2023-12-03T11:35:21.105435",
     "exception": false,
     "start_time": "2023-12-03T11:35:21.094649",
     "status": "completed"
    },
    "tags": []
   },
   "source": [
    "## Combination"
   ]
  },
  {
   "cell_type": "code",
   "execution_count": 10,
   "id": "0e1ebb54",
   "metadata": {
    "execution": {
     "iopub.execute_input": "2023-12-03T11:35:21.129763Z",
     "iopub.status.busy": "2023-12-03T11:35:21.129021Z",
     "iopub.status.idle": "2023-12-03T11:35:21.136211Z",
     "shell.execute_reply": "2023-12-03T11:35:21.135131Z"
    },
    "papermill": {
     "duration": 0.02201,
     "end_time": "2023-12-03T11:35:21.138656",
     "exception": false,
     "start_time": "2023-12-03T11:35:21.116646",
     "status": "completed"
    },
    "tags": []
   },
   "outputs": [],
   "source": [
    "def earth_distance(lat1, lat2, lon1, lon2):\n",
    "     \n",
    "    # The math module contains a function named\n",
    "    # radians which converts from degrees to radians.\n",
    "    lon1 = radians(lon1)\n",
    "    lon2 = radians(lon2)\n",
    "    lat1 = radians(lat1)\n",
    "    lat2 = radians(lat2)\n",
    "      \n",
    "    # Haversine formula \n",
    "    dlon = lon2 - lon1 \n",
    "    dlat = lat2 - lat1\n",
    "    a = sin(dlat / 2)**2 + cos(lat1) * cos(lat2) * sin(dlon / 2)**2\n",
    " \n",
    "    c = 2 * asin(sqrt(a)) \n",
    "    \n",
    "    # Radius of earth in kilometers. Use 3956 for miles\n",
    "    r = 6371\n",
    "      \n",
    "    # calculate the result\n",
    "    return(c * r)"
   ]
  },
  {
   "cell_type": "code",
   "execution_count": 11,
   "id": "1213341e",
   "metadata": {
    "execution": {
     "iopub.execute_input": "2023-12-03T11:35:21.163189Z",
     "iopub.status.busy": "2023-12-03T11:35:21.162772Z",
     "iopub.status.idle": "2023-12-03T11:35:21.170901Z",
     "shell.execute_reply": "2023-12-03T11:35:21.170131Z"
    },
    "papermill": {
     "duration": 0.022907,
     "end_time": "2023-12-03T11:35:21.172994",
     "exception": false,
     "start_time": "2023-12-03T11:35:21.150087",
     "status": "completed"
    },
    "tags": []
   },
   "outputs": [],
   "source": [
    "def add_safety(lots, incidents):\n",
    "    df = lots.copy(deep=False)\n",
    "    df['construction'] = [0] * len(df)\n",
    "    df['events'] = [0] * len(df)\n",
    "    df['congestion'] = [0] * len(df)\n",
    "    df['hazards'] = [0] * len(df)\n",
    "    type_dict = {1: 'construction', 2: 'events', 3: 'congestion', 4: 'hazards'}\n",
    "    \n",
    "    for i in range(len(lots)):\n",
    "        for j in range(len(incidents)):\n",
    "            if earth_distance(lots['lat'][i], incidents['lat'][j], lots['long'][i], incidents['long'][j]) <= 0.5:\n",
    "                df.loc[i, type_dict[int(incidents['type'][j])]] += int(incidents['severity'][j])\n",
    "    \n",
    "    return df"
   ]
  },
  {
   "cell_type": "code",
   "execution_count": 12,
   "id": "04c3af3b",
   "metadata": {
    "execution": {
     "iopub.execute_input": "2023-12-03T11:35:21.197622Z",
     "iopub.status.busy": "2023-12-03T11:35:21.196596Z",
     "iopub.status.idle": "2023-12-03T11:37:44.526707Z",
     "shell.execute_reply": "2023-12-03T11:37:44.525552Z"
    },
    "papermill": {
     "duration": 143.356792,
     "end_time": "2023-12-03T11:37:44.541207",
     "exception": false,
     "start_time": "2023-12-03T11:35:21.184415",
     "status": "completed"
    },
    "tags": []
   },
   "outputs": [
    {
     "data": {
      "text/html": [
       "<div>\n",
       "<style scoped>\n",
       "    .dataframe tbody tr th:only-of-type {\n",
       "        vertical-align: middle;\n",
       "    }\n",
       "\n",
       "    .dataframe tbody tr th {\n",
       "        vertical-align: top;\n",
       "    }\n",
       "\n",
       "    .dataframe thead th {\n",
       "        text-align: right;\n",
       "    }\n",
       "</style>\n",
       "<table border=\"1\" class=\"dataframe\">\n",
       "  <thead>\n",
       "    <tr style=\"text-align: right;\">\n",
       "      <th></th>\n",
       "      <th>id</th>\n",
       "      <th>pct</th>\n",
       "      <th>probability</th>\n",
       "      <th>available</th>\n",
       "      <th>distance</th>\n",
       "      <th>price</th>\n",
       "      <th>stars</th>\n",
       "      <th>long</th>\n",
       "      <th>lat</th>\n",
       "      <th>construction</th>\n",
       "      <th>events</th>\n",
       "      <th>congestion</th>\n",
       "      <th>hazards</th>\n",
       "    </tr>\n",
       "  </thead>\n",
       "  <tbody>\n",
       "    <tr>\n",
       "      <th>0</th>\n",
       "      <td>22110.0</td>\n",
       "      <td>41.0</td>\n",
       "      <td>83.0</td>\n",
       "      <td>61.0</td>\n",
       "      <td>843.0</td>\n",
       "      <td>3.0</td>\n",
       "      <td>-1.0</td>\n",
       "      <td>-122.419643</td>\n",
       "      <td>37.771486</td>\n",
       "      <td>2</td>\n",
       "      <td>0</td>\n",
       "      <td>5</td>\n",
       "      <td>0</td>\n",
       "    </tr>\n",
       "    <tr>\n",
       "      <th>1</th>\n",
       "      <td>27080.0</td>\n",
       "      <td>53.0</td>\n",
       "      <td>71.0</td>\n",
       "      <td>15.0</td>\n",
       "      <td>848.0</td>\n",
       "      <td>1.0</td>\n",
       "      <td>-1.0</td>\n",
       "      <td>-122.422446</td>\n",
       "      <td>37.772059</td>\n",
       "      <td>0</td>\n",
       "      <td>0</td>\n",
       "      <td>5</td>\n",
       "      <td>0</td>\n",
       "    </tr>\n",
       "    <tr>\n",
       "      <th>2</th>\n",
       "      <td>113004.0</td>\n",
       "      <td>40.0</td>\n",
       "      <td>84.0</td>\n",
       "      <td>34.0</td>\n",
       "      <td>905.0</td>\n",
       "      <td>3.0</td>\n",
       "      <td>-1.0</td>\n",
       "      <td>-122.420145</td>\n",
       "      <td>37.771240</td>\n",
       "      <td>2</td>\n",
       "      <td>0</td>\n",
       "      <td>5</td>\n",
       "      <td>0</td>\n",
       "    </tr>\n",
       "    <tr>\n",
       "      <th>3</th>\n",
       "      <td>28924.0</td>\n",
       "      <td>36.0</td>\n",
       "      <td>87.0</td>\n",
       "      <td>569.0</td>\n",
       "      <td>946.0</td>\n",
       "      <td>3.0</td>\n",
       "      <td>1.0</td>\n",
       "      <td>-122.415603</td>\n",
       "      <td>37.771280</td>\n",
       "      <td>6</td>\n",
       "      <td>0</td>\n",
       "      <td>0</td>\n",
       "      <td>0</td>\n",
       "    </tr>\n",
       "    <tr>\n",
       "      <th>4</th>\n",
       "      <td>401837.0</td>\n",
       "      <td>42.0</td>\n",
       "      <td>82.0</td>\n",
       "      <td>14.0</td>\n",
       "      <td>916.0</td>\n",
       "      <td>0.0</td>\n",
       "      <td>-1.0</td>\n",
       "      <td>-122.419293</td>\n",
       "      <td>37.787776</td>\n",
       "      <td>10</td>\n",
       "      <td>0</td>\n",
       "      <td>0</td>\n",
       "      <td>0</td>\n",
       "    </tr>\n",
       "    <tr>\n",
       "      <th>...</th>\n",
       "      <td>...</td>\n",
       "      <td>...</td>\n",
       "      <td>...</td>\n",
       "      <td>...</td>\n",
       "      <td>...</td>\n",
       "      <td>...</td>\n",
       "      <td>...</td>\n",
       "      <td>...</td>\n",
       "      <td>...</td>\n",
       "      <td>...</td>\n",
       "      <td>...</td>\n",
       "      <td>...</td>\n",
       "      <td>...</td>\n",
       "    </tr>\n",
       "    <tr>\n",
       "      <th>3512</th>\n",
       "      <td>27441.0</td>\n",
       "      <td>35.0</td>\n",
       "      <td>87.0</td>\n",
       "      <td>7.0</td>\n",
       "      <td>936.0</td>\n",
       "      <td>4.0</td>\n",
       "      <td>-1.0</td>\n",
       "      <td>-122.410793</td>\n",
       "      <td>37.792225</td>\n",
       "      <td>4</td>\n",
       "      <td>0</td>\n",
       "      <td>0</td>\n",
       "      <td>0</td>\n",
       "    </tr>\n",
       "    <tr>\n",
       "      <th>3513</th>\n",
       "      <td>84299.0</td>\n",
       "      <td>50.0</td>\n",
       "      <td>75.0</td>\n",
       "      <td>30.0</td>\n",
       "      <td>879.0</td>\n",
       "      <td>-1.0</td>\n",
       "      <td>-1.0</td>\n",
       "      <td>-122.411830</td>\n",
       "      <td>37.792512</td>\n",
       "      <td>0</td>\n",
       "      <td>0</td>\n",
       "      <td>0</td>\n",
       "      <td>0</td>\n",
       "    </tr>\n",
       "    <tr>\n",
       "      <th>3514</th>\n",
       "      <td>28169.0</td>\n",
       "      <td>39.0</td>\n",
       "      <td>84.0</td>\n",
       "      <td>6.0</td>\n",
       "      <td>875.0</td>\n",
       "      <td>-1.0</td>\n",
       "      <td>-1.0</td>\n",
       "      <td>-122.382103</td>\n",
       "      <td>37.738597</td>\n",
       "      <td>0</td>\n",
       "      <td>0</td>\n",
       "      <td>0</td>\n",
       "      <td>0</td>\n",
       "    </tr>\n",
       "    <tr>\n",
       "      <th>3515</th>\n",
       "      <td>27348.0</td>\n",
       "      <td>45.0</td>\n",
       "      <td>79.0</td>\n",
       "      <td>22.0</td>\n",
       "      <td>399.0</td>\n",
       "      <td>1.0</td>\n",
       "      <td>-1.0</td>\n",
       "      <td>-122.385939</td>\n",
       "      <td>37.744220</td>\n",
       "      <td>0</td>\n",
       "      <td>0</td>\n",
       "      <td>0</td>\n",
       "      <td>0</td>\n",
       "    </tr>\n",
       "    <tr>\n",
       "      <th>3516</th>\n",
       "      <td>27341.0</td>\n",
       "      <td>37.0</td>\n",
       "      <td>86.0</td>\n",
       "      <td>12.0</td>\n",
       "      <td>932.0</td>\n",
       "      <td>-1.0</td>\n",
       "      <td>-1.0</td>\n",
       "      <td>-122.381202</td>\n",
       "      <td>37.738364</td>\n",
       "      <td>0</td>\n",
       "      <td>0</td>\n",
       "      <td>0</td>\n",
       "      <td>0</td>\n",
       "    </tr>\n",
       "  </tbody>\n",
       "</table>\n",
       "<p>3517 rows × 13 columns</p>\n",
       "</div>"
      ],
      "text/plain": [
       "            id   pct  probability  available  distance  price  stars  \\\n",
       "0      22110.0  41.0         83.0       61.0     843.0    3.0   -1.0   \n",
       "1      27080.0  53.0         71.0       15.0     848.0    1.0   -1.0   \n",
       "2     113004.0  40.0         84.0       34.0     905.0    3.0   -1.0   \n",
       "3      28924.0  36.0         87.0      569.0     946.0    3.0    1.0   \n",
       "4     401837.0  42.0         82.0       14.0     916.0    0.0   -1.0   \n",
       "...        ...   ...          ...        ...       ...    ...    ...   \n",
       "3512   27441.0  35.0         87.0        7.0     936.0    4.0   -1.0   \n",
       "3513   84299.0  50.0         75.0       30.0     879.0   -1.0   -1.0   \n",
       "3514   28169.0  39.0         84.0        6.0     875.0   -1.0   -1.0   \n",
       "3515   27348.0  45.0         79.0       22.0     399.0    1.0   -1.0   \n",
       "3516   27341.0  37.0         86.0       12.0     932.0   -1.0   -1.0   \n",
       "\n",
       "            long        lat  construction  events  congestion  hazards  \n",
       "0    -122.419643  37.771486             2       0           5        0  \n",
       "1    -122.422446  37.772059             0       0           5        0  \n",
       "2    -122.420145  37.771240             2       0           5        0  \n",
       "3    -122.415603  37.771280             6       0           0        0  \n",
       "4    -122.419293  37.787776            10       0           0        0  \n",
       "...          ...        ...           ...     ...         ...      ...  \n",
       "3512 -122.410793  37.792225             4       0           0        0  \n",
       "3513 -122.411830  37.792512             0       0           0        0  \n",
       "3514 -122.382103  37.738597             0       0           0        0  \n",
       "3515 -122.385939  37.744220             0       0           0        0  \n",
       "3516 -122.381202  37.738364             0       0           0        0  \n",
       "\n",
       "[3517 rows x 13 columns]"
      ]
     },
     "execution_count": 12,
     "metadata": {},
     "output_type": "execute_result"
    }
   ],
   "source": [
    "safety = add_safety(lots, incidents)\n",
    "safety"
   ]
  },
  {
   "cell_type": "code",
   "execution_count": 13,
   "id": "ff7d0f6c",
   "metadata": {
    "execution": {
     "iopub.execute_input": "2023-12-03T11:37:44.566447Z",
     "iopub.status.busy": "2023-12-03T11:37:44.566006Z",
     "iopub.status.idle": "2023-12-03T11:37:44.592193Z",
     "shell.execute_reply": "2023-12-03T11:37:44.591119Z"
    },
    "papermill": {
     "duration": 0.042015,
     "end_time": "2023-12-03T11:37:44.594859",
     "exception": false,
     "start_time": "2023-12-03T11:37:44.552844",
     "status": "completed"
    },
    "tags": []
   },
   "outputs": [
    {
     "data": {
      "text/html": [
       "<div>\n",
       "<style scoped>\n",
       "    .dataframe tbody tr th:only-of-type {\n",
       "        vertical-align: middle;\n",
       "    }\n",
       "\n",
       "    .dataframe tbody tr th {\n",
       "        vertical-align: top;\n",
       "    }\n",
       "\n",
       "    .dataframe thead th {\n",
       "        text-align: right;\n",
       "    }\n",
       "</style>\n",
       "<table border=\"1\" class=\"dataframe\">\n",
       "  <thead>\n",
       "    <tr style=\"text-align: right;\">\n",
       "      <th></th>\n",
       "      <th>pct</th>\n",
       "      <th>probability</th>\n",
       "      <th>available</th>\n",
       "      <th>distance</th>\n",
       "      <th>price</th>\n",
       "      <th>stars</th>\n",
       "      <th>construction</th>\n",
       "      <th>events</th>\n",
       "      <th>congestion</th>\n",
       "      <th>hazards</th>\n",
       "    </tr>\n",
       "  </thead>\n",
       "  <tbody>\n",
       "    <tr>\n",
       "      <th>0</th>\n",
       "      <td>41.0</td>\n",
       "      <td>83.0</td>\n",
       "      <td>61.0</td>\n",
       "      <td>843.0</td>\n",
       "      <td>3.0</td>\n",
       "      <td>-1.0</td>\n",
       "      <td>2</td>\n",
       "      <td>0</td>\n",
       "      <td>5</td>\n",
       "      <td>0</td>\n",
       "    </tr>\n",
       "    <tr>\n",
       "      <th>1</th>\n",
       "      <td>53.0</td>\n",
       "      <td>71.0</td>\n",
       "      <td>15.0</td>\n",
       "      <td>848.0</td>\n",
       "      <td>1.0</td>\n",
       "      <td>-1.0</td>\n",
       "      <td>0</td>\n",
       "      <td>0</td>\n",
       "      <td>5</td>\n",
       "      <td>0</td>\n",
       "    </tr>\n",
       "    <tr>\n",
       "      <th>2</th>\n",
       "      <td>40.0</td>\n",
       "      <td>84.0</td>\n",
       "      <td>34.0</td>\n",
       "      <td>905.0</td>\n",
       "      <td>3.0</td>\n",
       "      <td>-1.0</td>\n",
       "      <td>2</td>\n",
       "      <td>0</td>\n",
       "      <td>5</td>\n",
       "      <td>0</td>\n",
       "    </tr>\n",
       "    <tr>\n",
       "      <th>3</th>\n",
       "      <td>36.0</td>\n",
       "      <td>87.0</td>\n",
       "      <td>569.0</td>\n",
       "      <td>946.0</td>\n",
       "      <td>3.0</td>\n",
       "      <td>1.0</td>\n",
       "      <td>6</td>\n",
       "      <td>0</td>\n",
       "      <td>0</td>\n",
       "      <td>0</td>\n",
       "    </tr>\n",
       "    <tr>\n",
       "      <th>4</th>\n",
       "      <td>42.0</td>\n",
       "      <td>82.0</td>\n",
       "      <td>14.0</td>\n",
       "      <td>916.0</td>\n",
       "      <td>0.0</td>\n",
       "      <td>-1.0</td>\n",
       "      <td>10</td>\n",
       "      <td>0</td>\n",
       "      <td>0</td>\n",
       "      <td>0</td>\n",
       "    </tr>\n",
       "    <tr>\n",
       "      <th>...</th>\n",
       "      <td>...</td>\n",
       "      <td>...</td>\n",
       "      <td>...</td>\n",
       "      <td>...</td>\n",
       "      <td>...</td>\n",
       "      <td>...</td>\n",
       "      <td>...</td>\n",
       "      <td>...</td>\n",
       "      <td>...</td>\n",
       "      <td>...</td>\n",
       "    </tr>\n",
       "    <tr>\n",
       "      <th>3512</th>\n",
       "      <td>35.0</td>\n",
       "      <td>87.0</td>\n",
       "      <td>7.0</td>\n",
       "      <td>936.0</td>\n",
       "      <td>4.0</td>\n",
       "      <td>-1.0</td>\n",
       "      <td>4</td>\n",
       "      <td>0</td>\n",
       "      <td>0</td>\n",
       "      <td>0</td>\n",
       "    </tr>\n",
       "    <tr>\n",
       "      <th>3513</th>\n",
       "      <td>50.0</td>\n",
       "      <td>75.0</td>\n",
       "      <td>30.0</td>\n",
       "      <td>879.0</td>\n",
       "      <td>-1.0</td>\n",
       "      <td>-1.0</td>\n",
       "      <td>0</td>\n",
       "      <td>0</td>\n",
       "      <td>0</td>\n",
       "      <td>0</td>\n",
       "    </tr>\n",
       "    <tr>\n",
       "      <th>3514</th>\n",
       "      <td>39.0</td>\n",
       "      <td>84.0</td>\n",
       "      <td>6.0</td>\n",
       "      <td>875.0</td>\n",
       "      <td>-1.0</td>\n",
       "      <td>-1.0</td>\n",
       "      <td>0</td>\n",
       "      <td>0</td>\n",
       "      <td>0</td>\n",
       "      <td>0</td>\n",
       "    </tr>\n",
       "    <tr>\n",
       "      <th>3515</th>\n",
       "      <td>45.0</td>\n",
       "      <td>79.0</td>\n",
       "      <td>22.0</td>\n",
       "      <td>399.0</td>\n",
       "      <td>1.0</td>\n",
       "      <td>-1.0</td>\n",
       "      <td>0</td>\n",
       "      <td>0</td>\n",
       "      <td>0</td>\n",
       "      <td>0</td>\n",
       "    </tr>\n",
       "    <tr>\n",
       "      <th>3516</th>\n",
       "      <td>37.0</td>\n",
       "      <td>86.0</td>\n",
       "      <td>12.0</td>\n",
       "      <td>932.0</td>\n",
       "      <td>-1.0</td>\n",
       "      <td>-1.0</td>\n",
       "      <td>0</td>\n",
       "      <td>0</td>\n",
       "      <td>0</td>\n",
       "      <td>0</td>\n",
       "    </tr>\n",
       "  </tbody>\n",
       "</table>\n",
       "<p>3517 rows × 10 columns</p>\n",
       "</div>"
      ],
      "text/plain": [
       "       pct  probability  available  distance  price  stars  construction  \\\n",
       "0     41.0         83.0       61.0     843.0    3.0   -1.0             2   \n",
       "1     53.0         71.0       15.0     848.0    1.0   -1.0             0   \n",
       "2     40.0         84.0       34.0     905.0    3.0   -1.0             2   \n",
       "3     36.0         87.0      569.0     946.0    3.0    1.0             6   \n",
       "4     42.0         82.0       14.0     916.0    0.0   -1.0            10   \n",
       "...    ...          ...        ...       ...    ...    ...           ...   \n",
       "3512  35.0         87.0        7.0     936.0    4.0   -1.0             4   \n",
       "3513  50.0         75.0       30.0     879.0   -1.0   -1.0             0   \n",
       "3514  39.0         84.0        6.0     875.0   -1.0   -1.0             0   \n",
       "3515  45.0         79.0       22.0     399.0    1.0   -1.0             0   \n",
       "3516  37.0         86.0       12.0     932.0   -1.0   -1.0             0   \n",
       "\n",
       "      events  congestion  hazards  \n",
       "0          0           5        0  \n",
       "1          0           5        0  \n",
       "2          0           5        0  \n",
       "3          0           0        0  \n",
       "4          0           0        0  \n",
       "...      ...         ...      ...  \n",
       "3512       0           0        0  \n",
       "3513       0           0        0  \n",
       "3514       0           0        0  \n",
       "3515       0           0        0  \n",
       "3516       0           0        0  \n",
       "\n",
       "[3517 rows x 10 columns]"
      ]
     },
     "execution_count": 13,
     "metadata": {},
     "output_type": "execute_result"
    }
   ],
   "source": [
    "safety = safety.drop(columns=['id','long','lat'])\n",
    "safety"
   ]
  },
  {
   "cell_type": "code",
   "execution_count": 14,
   "id": "fdfa833f",
   "metadata": {
    "execution": {
     "iopub.execute_input": "2023-12-03T11:37:44.621069Z",
     "iopub.status.busy": "2023-12-03T11:37:44.620655Z",
     "iopub.status.idle": "2023-12-03T11:37:44.653651Z",
     "shell.execute_reply": "2023-12-03T11:37:44.652607Z"
    },
    "papermill": {
     "duration": 0.049252,
     "end_time": "2023-12-03T11:37:44.656250",
     "exception": false,
     "start_time": "2023-12-03T11:37:44.606998",
     "status": "completed"
    },
    "tags": []
   },
   "outputs": [],
   "source": [
    "safety.to_csv('parking_safe.csv', index=False)"
   ]
  },
  {
   "cell_type": "markdown",
   "id": "18ee2a59",
   "metadata": {
    "papermill": {
     "duration": 0.012682,
     "end_time": "2023-12-03T11:37:44.681011",
     "exception": false,
     "start_time": "2023-12-03T11:37:44.668329",
     "status": "completed"
    },
    "tags": []
   },
   "source": [
    "## Read GPT-Labeled Dataset"
   ]
  },
  {
   "cell_type": "code",
   "execution_count": 15,
   "id": "98541d92",
   "metadata": {
    "execution": {
     "iopub.execute_input": "2023-12-03T11:37:44.707366Z",
     "iopub.status.busy": "2023-12-03T11:37:44.706512Z",
     "iopub.status.idle": "2023-12-03T11:37:44.775128Z",
     "shell.execute_reply": "2023-12-03T11:37:44.773788Z"
    },
    "papermill": {
     "duration": 0.084864,
     "end_time": "2023-12-03T11:37:44.777666",
     "exception": false,
     "start_time": "2023-12-03T11:37:44.692802",
     "status": "completed"
    },
    "tags": []
   },
   "outputs": [
    {
     "data": {
      "text/html": [
       "<div>\n",
       "<style scoped>\n",
       "    .dataframe tbody tr th:only-of-type {\n",
       "        vertical-align: middle;\n",
       "    }\n",
       "\n",
       "    .dataframe tbody tr th {\n",
       "        vertical-align: top;\n",
       "    }\n",
       "\n",
       "    .dataframe thead th {\n",
       "        text-align: right;\n",
       "    }\n",
       "</style>\n",
       "<table border=\"1\" class=\"dataframe\">\n",
       "  <thead>\n",
       "    <tr style=\"text-align: right;\">\n",
       "      <th></th>\n",
       "      <th>pct</th>\n",
       "      <th>probability</th>\n",
       "      <th>available</th>\n",
       "      <th>distance</th>\n",
       "      <th>price</th>\n",
       "      <th>stars</th>\n",
       "      <th>construction</th>\n",
       "      <th>events</th>\n",
       "      <th>congestion</th>\n",
       "      <th>hazards</th>\n",
       "      <th>rating</th>\n",
       "    </tr>\n",
       "  </thead>\n",
       "  <tbody>\n",
       "    <tr>\n",
       "      <th>0</th>\n",
       "      <td>41.0</td>\n",
       "      <td>83.0</td>\n",
       "      <td>61.0</td>\n",
       "      <td>843.0</td>\n",
       "      <td>3.000000</td>\n",
       "      <td>-0.011444</td>\n",
       "      <td>2</td>\n",
       "      <td>0</td>\n",
       "      <td>5</td>\n",
       "      <td>0</td>\n",
       "      <td>1</td>\n",
       "    </tr>\n",
       "    <tr>\n",
       "      <th>1</th>\n",
       "      <td>53.0</td>\n",
       "      <td>71.0</td>\n",
       "      <td>15.0</td>\n",
       "      <td>848.0</td>\n",
       "      <td>1.000000</td>\n",
       "      <td>-0.011444</td>\n",
       "      <td>0</td>\n",
       "      <td>0</td>\n",
       "      <td>5</td>\n",
       "      <td>0</td>\n",
       "      <td>1</td>\n",
       "    </tr>\n",
       "    <tr>\n",
       "      <th>2</th>\n",
       "      <td>40.0</td>\n",
       "      <td>84.0</td>\n",
       "      <td>34.0</td>\n",
       "      <td>905.0</td>\n",
       "      <td>3.000000</td>\n",
       "      <td>-0.011444</td>\n",
       "      <td>2</td>\n",
       "      <td>0</td>\n",
       "      <td>5</td>\n",
       "      <td>0</td>\n",
       "      <td>1</td>\n",
       "    </tr>\n",
       "    <tr>\n",
       "      <th>3</th>\n",
       "      <td>36.0</td>\n",
       "      <td>87.0</td>\n",
       "      <td>569.0</td>\n",
       "      <td>946.0</td>\n",
       "      <td>3.000000</td>\n",
       "      <td>1.000000</td>\n",
       "      <td>6</td>\n",
       "      <td>0</td>\n",
       "      <td>0</td>\n",
       "      <td>0</td>\n",
       "      <td>3</td>\n",
       "    </tr>\n",
       "    <tr>\n",
       "      <th>4</th>\n",
       "      <td>42.0</td>\n",
       "      <td>82.0</td>\n",
       "      <td>14.0</td>\n",
       "      <td>916.0</td>\n",
       "      <td>0.000000</td>\n",
       "      <td>-0.011444</td>\n",
       "      <td>10</td>\n",
       "      <td>0</td>\n",
       "      <td>0</td>\n",
       "      <td>0</td>\n",
       "      <td>4</td>\n",
       "    </tr>\n",
       "    <tr>\n",
       "      <th>...</th>\n",
       "      <td>...</td>\n",
       "      <td>...</td>\n",
       "      <td>...</td>\n",
       "      <td>...</td>\n",
       "      <td>...</td>\n",
       "      <td>...</td>\n",
       "      <td>...</td>\n",
       "      <td>...</td>\n",
       "      <td>...</td>\n",
       "      <td>...</td>\n",
       "      <td>...</td>\n",
       "    </tr>\n",
       "    <tr>\n",
       "      <th>3512</th>\n",
       "      <td>35.0</td>\n",
       "      <td>87.0</td>\n",
       "      <td>7.0</td>\n",
       "      <td>936.0</td>\n",
       "      <td>4.000000</td>\n",
       "      <td>-0.011444</td>\n",
       "      <td>4</td>\n",
       "      <td>0</td>\n",
       "      <td>0</td>\n",
       "      <td>0</td>\n",
       "      <td>1</td>\n",
       "    </tr>\n",
       "    <tr>\n",
       "      <th>3513</th>\n",
       "      <td>50.0</td>\n",
       "      <td>75.0</td>\n",
       "      <td>30.0</td>\n",
       "      <td>879.0</td>\n",
       "      <td>1.779073</td>\n",
       "      <td>-0.011444</td>\n",
       "      <td>0</td>\n",
       "      <td>0</td>\n",
       "      <td>0</td>\n",
       "      <td>0</td>\n",
       "      <td>2</td>\n",
       "    </tr>\n",
       "    <tr>\n",
       "      <th>3514</th>\n",
       "      <td>39.0</td>\n",
       "      <td>84.0</td>\n",
       "      <td>6.0</td>\n",
       "      <td>875.0</td>\n",
       "      <td>1.779073</td>\n",
       "      <td>-0.011444</td>\n",
       "      <td>0</td>\n",
       "      <td>0</td>\n",
       "      <td>0</td>\n",
       "      <td>0</td>\n",
       "      <td>2</td>\n",
       "    </tr>\n",
       "    <tr>\n",
       "      <th>3515</th>\n",
       "      <td>45.0</td>\n",
       "      <td>79.0</td>\n",
       "      <td>22.0</td>\n",
       "      <td>399.0</td>\n",
       "      <td>1.000000</td>\n",
       "      <td>-0.011444</td>\n",
       "      <td>0</td>\n",
       "      <td>0</td>\n",
       "      <td>0</td>\n",
       "      <td>0</td>\n",
       "      <td>5</td>\n",
       "    </tr>\n",
       "    <tr>\n",
       "      <th>3516</th>\n",
       "      <td>37.0</td>\n",
       "      <td>86.0</td>\n",
       "      <td>12.0</td>\n",
       "      <td>932.0</td>\n",
       "      <td>1.779073</td>\n",
       "      <td>-0.011444</td>\n",
       "      <td>0</td>\n",
       "      <td>0</td>\n",
       "      <td>0</td>\n",
       "      <td>0</td>\n",
       "      <td>2</td>\n",
       "    </tr>\n",
       "  </tbody>\n",
       "</table>\n",
       "<p>3517 rows × 11 columns</p>\n",
       "</div>"
      ],
      "text/plain": [
       "       pct  probability  available  distance     price     stars  \\\n",
       "0     41.0         83.0       61.0     843.0  3.000000 -0.011444   \n",
       "1     53.0         71.0       15.0     848.0  1.000000 -0.011444   \n",
       "2     40.0         84.0       34.0     905.0  3.000000 -0.011444   \n",
       "3     36.0         87.0      569.0     946.0  3.000000  1.000000   \n",
       "4     42.0         82.0       14.0     916.0  0.000000 -0.011444   \n",
       "...    ...          ...        ...       ...       ...       ...   \n",
       "3512  35.0         87.0        7.0     936.0  4.000000 -0.011444   \n",
       "3513  50.0         75.0       30.0     879.0  1.779073 -0.011444   \n",
       "3514  39.0         84.0        6.0     875.0  1.779073 -0.011444   \n",
       "3515  45.0         79.0       22.0     399.0  1.000000 -0.011444   \n",
       "3516  37.0         86.0       12.0     932.0  1.779073 -0.011444   \n",
       "\n",
       "      construction  events  congestion  hazards  rating  \n",
       "0                2       0           5        0       1  \n",
       "1                0       0           5        0       1  \n",
       "2                2       0           5        0       1  \n",
       "3                6       0           0        0       3  \n",
       "4               10       0           0        0       4  \n",
       "...            ...     ...         ...      ...     ...  \n",
       "3512             4       0           0        0       1  \n",
       "3513             0       0           0        0       2  \n",
       "3514             0       0           0        0       2  \n",
       "3515             0       0           0        0       5  \n",
       "3516             0       0           0        0       2  \n",
       "\n",
       "[3517 rows x 11 columns]"
      ]
     },
     "execution_count": 15,
     "metadata": {},
     "output_type": "execute_result"
    }
   ],
   "source": [
    "parking = pd.read_csv('/kaggle/input/inrix-hack-dataset/parking_safe_labeled.csv')\n",
    "parking"
   ]
  },
  {
   "cell_type": "code",
   "execution_count": 16,
   "id": "a173c03d",
   "metadata": {
    "execution": {
     "iopub.execute_input": "2023-12-03T11:37:44.805373Z",
     "iopub.status.busy": "2023-12-03T11:37:44.804626Z",
     "iopub.status.idle": "2023-12-03T11:37:44.813986Z",
     "shell.execute_reply": "2023-12-03T11:37:44.812871Z"
    },
    "papermill": {
     "duration": 0.026183,
     "end_time": "2023-12-03T11:37:44.816285",
     "exception": false,
     "start_time": "2023-12-03T11:37:44.790102",
     "status": "completed"
    },
    "tags": []
   },
   "outputs": [
    {
     "name": "stdout",
     "output_type": "stream",
     "text": [
      "the min rating is: 1\n",
      "the max rating is: 5\n",
      "the mean of rating is: 3.0\n",
      "the sd of rating is: 1.41\n"
     ]
    }
   ],
   "source": [
    "print('the min rating is: ' + str(parking['rating'].min()))\n",
    "print('the max rating is: ' + str(parking['rating'].max()))\n",
    "print('the mean of rating is: ' + str(round(parking['rating'].mean(),2)))\n",
    "print('the sd of rating is: ' + str(round(parking['rating'].std(),2)))"
   ]
  },
  {
   "cell_type": "markdown",
   "id": "31f9bcd9",
   "metadata": {
    "papermill": {
     "duration": 0.012466,
     "end_time": "2023-12-03T11:37:44.841695",
     "exception": false,
     "start_time": "2023-12-03T11:37:44.829229",
     "status": "completed"
    },
    "tags": []
   },
   "source": [
    "## Scale Features"
   ]
  },
  {
   "cell_type": "code",
   "execution_count": 17,
   "id": "669f669b",
   "metadata": {
    "execution": {
     "iopub.execute_input": "2023-12-03T11:37:44.869720Z",
     "iopub.status.busy": "2023-12-03T11:37:44.869073Z",
     "iopub.status.idle": "2023-12-03T11:37:44.875192Z",
     "shell.execute_reply": "2023-12-03T11:37:44.874472Z"
    },
    "papermill": {
     "duration": 0.022856,
     "end_time": "2023-12-03T11:37:44.877360",
     "exception": false,
     "start_time": "2023-12-03T11:37:44.854504",
     "status": "completed"
    },
    "tags": []
   },
   "outputs": [],
   "source": [
    "def scale_data(data):\n",
    "    temp = data.copy(deep=False)\n",
    "    std_slc = StandardScaler()\n",
    "    preprocess = std_slc.fit_transform(temp[['pct', 'probability', 'available', 'distance', 'price', 'stars', 'construction', 'events', 'congestion', 'hazards']])\n",
    "    data_scaled = pd.DataFrame(preprocess, columns=['pct', 'probability', 'available', 'distance', 'price', 'stars', 'construction', 'events', 'congestion', 'hazards'])\n",
    "    data_scaled['rating'] = data['rating']\n",
    "    return data_scaled, std_slc.scale_, std_slc.mean_"
   ]
  },
  {
   "cell_type": "code",
   "execution_count": 18,
   "id": "9142fe50",
   "metadata": {
    "execution": {
     "iopub.execute_input": "2023-12-03T11:37:44.971307Z",
     "iopub.status.busy": "2023-12-03T11:37:44.970872Z",
     "iopub.status.idle": "2023-12-03T11:37:45.001493Z",
     "shell.execute_reply": "2023-12-03T11:37:45.000351Z"
    },
    "papermill": {
     "duration": 0.113291,
     "end_time": "2023-12-03T11:37:45.003534",
     "exception": false,
     "start_time": "2023-12-03T11:37:44.890243",
     "status": "completed"
    },
    "tags": []
   },
   "outputs": [
    {
     "data": {
      "text/html": [
       "<div>\n",
       "<style scoped>\n",
       "    .dataframe tbody tr th:only-of-type {\n",
       "        vertical-align: middle;\n",
       "    }\n",
       "\n",
       "    .dataframe tbody tr th {\n",
       "        vertical-align: top;\n",
       "    }\n",
       "\n",
       "    .dataframe thead th {\n",
       "        text-align: right;\n",
       "    }\n",
       "</style>\n",
       "<table border=\"1\" class=\"dataframe\">\n",
       "  <thead>\n",
       "    <tr style=\"text-align: right;\">\n",
       "      <th></th>\n",
       "      <th>pct</th>\n",
       "      <th>probability</th>\n",
       "      <th>available</th>\n",
       "      <th>distance</th>\n",
       "      <th>price</th>\n",
       "      <th>stars</th>\n",
       "      <th>construction</th>\n",
       "      <th>events</th>\n",
       "      <th>congestion</th>\n",
       "      <th>hazards</th>\n",
       "      <th>rating</th>\n",
       "    </tr>\n",
       "  </thead>\n",
       "  <tbody>\n",
       "    <tr>\n",
       "      <th>0</th>\n",
       "      <td>0.404868</td>\n",
       "      <td>-0.271315</td>\n",
       "      <td>-0.151143</td>\n",
       "      <td>0.828375</td>\n",
       "      <td>0.864196</td>\n",
       "      <td>-0.506208</td>\n",
       "      <td>-0.618060</td>\n",
       "      <td>0.0</td>\n",
       "      <td>1.712472</td>\n",
       "      <td>0.0</td>\n",
       "      <td>1</td>\n",
       "    </tr>\n",
       "    <tr>\n",
       "      <th>1</th>\n",
       "      <td>2.477784</td>\n",
       "      <td>-2.877270</td>\n",
       "      <td>-0.464425</td>\n",
       "      <td>0.849317</td>\n",
       "      <td>-1.079892</td>\n",
       "      <td>-0.506208</td>\n",
       "      <td>-0.785450</td>\n",
       "      <td>0.0</td>\n",
       "      <td>1.712472</td>\n",
       "      <td>0.0</td>\n",
       "      <td>1</td>\n",
       "    </tr>\n",
       "    <tr>\n",
       "      <th>2</th>\n",
       "      <td>0.232125</td>\n",
       "      <td>-0.054152</td>\n",
       "      <td>-0.335026</td>\n",
       "      <td>1.088055</td>\n",
       "      <td>0.864196</td>\n",
       "      <td>-0.506208</td>\n",
       "      <td>-0.618060</td>\n",
       "      <td>0.0</td>\n",
       "      <td>1.712472</td>\n",
       "      <td>0.0</td>\n",
       "      <td>1</td>\n",
       "    </tr>\n",
       "    <tr>\n",
       "      <th>3</th>\n",
       "      <td>-0.458847</td>\n",
       "      <td>0.597337</td>\n",
       "      <td>3.308578</td>\n",
       "      <td>1.259779</td>\n",
       "      <td>0.864196</td>\n",
       "      <td>0.206451</td>\n",
       "      <td>-0.283282</td>\n",
       "      <td>0.0</td>\n",
       "      <td>-0.305069</td>\n",
       "      <td>0.0</td>\n",
       "      <td>3</td>\n",
       "    </tr>\n",
       "    <tr>\n",
       "      <th>4</th>\n",
       "      <td>0.577611</td>\n",
       "      <td>-0.488478</td>\n",
       "      <td>-0.471236</td>\n",
       "      <td>1.134127</td>\n",
       "      <td>-2.051936</td>\n",
       "      <td>-0.506208</td>\n",
       "      <td>0.051497</td>\n",
       "      <td>0.0</td>\n",
       "      <td>-0.305069</td>\n",
       "      <td>0.0</td>\n",
       "      <td>4</td>\n",
       "    </tr>\n",
       "    <tr>\n",
       "      <th>...</th>\n",
       "      <td>...</td>\n",
       "      <td>...</td>\n",
       "      <td>...</td>\n",
       "      <td>...</td>\n",
       "      <td>...</td>\n",
       "      <td>...</td>\n",
       "      <td>...</td>\n",
       "      <td>...</td>\n",
       "      <td>...</td>\n",
       "      <td>...</td>\n",
       "      <td>...</td>\n",
       "    </tr>\n",
       "    <tr>\n",
       "      <th>3512</th>\n",
       "      <td>-0.631590</td>\n",
       "      <td>0.597337</td>\n",
       "      <td>-0.518909</td>\n",
       "      <td>1.217895</td>\n",
       "      <td>1.836240</td>\n",
       "      <td>-0.506208</td>\n",
       "      <td>-0.450671</td>\n",
       "      <td>0.0</td>\n",
       "      <td>-0.305069</td>\n",
       "      <td>0.0</td>\n",
       "      <td>1</td>\n",
       "    </tr>\n",
       "    <tr>\n",
       "      <th>3513</th>\n",
       "      <td>1.959555</td>\n",
       "      <td>-2.008618</td>\n",
       "      <td>-0.362268</td>\n",
       "      <td>0.979157</td>\n",
       "      <td>-0.322599</td>\n",
       "      <td>-0.506208</td>\n",
       "      <td>-0.785450</td>\n",
       "      <td>0.0</td>\n",
       "      <td>-0.305069</td>\n",
       "      <td>0.0</td>\n",
       "      <td>2</td>\n",
       "    </tr>\n",
       "    <tr>\n",
       "      <th>3514</th>\n",
       "      <td>0.059382</td>\n",
       "      <td>-0.054152</td>\n",
       "      <td>-0.525720</td>\n",
       "      <td>0.962404</td>\n",
       "      <td>-0.322599</td>\n",
       "      <td>-0.506208</td>\n",
       "      <td>-0.785450</td>\n",
       "      <td>0.0</td>\n",
       "      <td>-0.305069</td>\n",
       "      <td>0.0</td>\n",
       "      <td>2</td>\n",
       "    </tr>\n",
       "    <tr>\n",
       "      <th>3515</th>\n",
       "      <td>1.095840</td>\n",
       "      <td>-1.139967</td>\n",
       "      <td>-0.416752</td>\n",
       "      <td>-1.031266</td>\n",
       "      <td>-1.079892</td>\n",
       "      <td>-0.506208</td>\n",
       "      <td>-0.785450</td>\n",
       "      <td>0.0</td>\n",
       "      <td>-0.305069</td>\n",
       "      <td>0.0</td>\n",
       "      <td>5</td>\n",
       "    </tr>\n",
       "    <tr>\n",
       "      <th>3516</th>\n",
       "      <td>-0.286104</td>\n",
       "      <td>0.380174</td>\n",
       "      <td>-0.484857</td>\n",
       "      <td>1.201141</td>\n",
       "      <td>-0.322599</td>\n",
       "      <td>-0.506208</td>\n",
       "      <td>-0.785450</td>\n",
       "      <td>0.0</td>\n",
       "      <td>-0.305069</td>\n",
       "      <td>0.0</td>\n",
       "      <td>2</td>\n",
       "    </tr>\n",
       "  </tbody>\n",
       "</table>\n",
       "<p>3517 rows × 11 columns</p>\n",
       "</div>"
      ],
      "text/plain": [
       "           pct  probability  available  distance     price     stars  \\\n",
       "0     0.404868    -0.271315  -0.151143  0.828375  0.864196 -0.506208   \n",
       "1     2.477784    -2.877270  -0.464425  0.849317 -1.079892 -0.506208   \n",
       "2     0.232125    -0.054152  -0.335026  1.088055  0.864196 -0.506208   \n",
       "3    -0.458847     0.597337   3.308578  1.259779  0.864196  0.206451   \n",
       "4     0.577611    -0.488478  -0.471236  1.134127 -2.051936 -0.506208   \n",
       "...        ...          ...        ...       ...       ...       ...   \n",
       "3512 -0.631590     0.597337  -0.518909  1.217895  1.836240 -0.506208   \n",
       "3513  1.959555    -2.008618  -0.362268  0.979157 -0.322599 -0.506208   \n",
       "3514  0.059382    -0.054152  -0.525720  0.962404 -0.322599 -0.506208   \n",
       "3515  1.095840    -1.139967  -0.416752 -1.031266 -1.079892 -0.506208   \n",
       "3516 -0.286104     0.380174  -0.484857  1.201141 -0.322599 -0.506208   \n",
       "\n",
       "      construction  events  congestion  hazards  rating  \n",
       "0        -0.618060     0.0    1.712472      0.0       1  \n",
       "1        -0.785450     0.0    1.712472      0.0       1  \n",
       "2        -0.618060     0.0    1.712472      0.0       1  \n",
       "3        -0.283282     0.0   -0.305069      0.0       3  \n",
       "4         0.051497     0.0   -0.305069      0.0       4  \n",
       "...            ...     ...         ...      ...     ...  \n",
       "3512     -0.450671     0.0   -0.305069      0.0       1  \n",
       "3513     -0.785450     0.0   -0.305069      0.0       2  \n",
       "3514     -0.785450     0.0   -0.305069      0.0       2  \n",
       "3515     -0.785450     0.0   -0.305069      0.0       5  \n",
       "3516     -0.785450     0.0   -0.305069      0.0       2  \n",
       "\n",
       "[3517 rows x 11 columns]"
      ]
     },
     "execution_count": 18,
     "metadata": {},
     "output_type": "execute_result"
    }
   ],
   "source": [
    "parking_scaled, std, mean = scale_data(parking)\n",
    "parking_scaled"
   ]
  },
  {
   "cell_type": "code",
   "execution_count": 19,
   "id": "975255d9",
   "metadata": {
    "execution": {
     "iopub.execute_input": "2023-12-03T11:37:45.032677Z",
     "iopub.status.busy": "2023-12-03T11:37:45.031777Z",
     "iopub.status.idle": "2023-12-03T11:37:45.112067Z",
     "shell.execute_reply": "2023-12-03T11:37:45.111233Z"
    },
    "papermill": {
     "duration": 0.097654,
     "end_time": "2023-12-03T11:37:45.114722",
     "exception": false,
     "start_time": "2023-12-03T11:37:45.017068",
     "status": "completed"
    },
    "tags": []
   },
   "outputs": [],
   "source": [
    "parking_scaled.to_csv('parking_safe_labeled_scaled.csv', index=False)"
   ]
  },
  {
   "cell_type": "code",
   "execution_count": 20,
   "id": "0ca69aaf",
   "metadata": {
    "execution": {
     "iopub.execute_input": "2023-12-03T11:37:45.144699Z",
     "iopub.status.busy": "2023-12-03T11:37:45.144173Z",
     "iopub.status.idle": "2023-12-03T11:37:45.151315Z",
     "shell.execute_reply": "2023-12-03T11:37:45.150260Z"
    },
    "papermill": {
     "duration": 0.025006,
     "end_time": "2023-12-03T11:37:45.153634",
     "exception": false,
     "start_time": "2023-12-03T11:37:45.128628",
     "status": "completed"
    },
    "tags": []
   },
   "outputs": [
    {
     "data": {
      "text/plain": [
       "array([  5.78894742,   4.60483703, 146.83262808, 238.75573511,\n",
       "         1.02875985,   1.41925462,  11.94819279,   1.        ,\n",
       "         2.478264  ,   1.        ])"
      ]
     },
     "execution_count": 20,
     "metadata": {},
     "output_type": "execute_result"
    }
   ],
   "source": [
    "std"
   ]
  },
  {
   "cell_type": "code",
   "execution_count": 21,
   "id": "cd571c0e",
   "metadata": {
    "execution": {
     "iopub.execute_input": "2023-12-03T11:37:45.182650Z",
     "iopub.status.busy": "2023-12-03T11:37:45.182029Z",
     "iopub.status.idle": "2023-12-03T11:37:45.188611Z",
     "shell.execute_reply": "2023-12-03T11:37:45.187540Z"
    },
    "papermill": {
     "duration": 0.023326,
     "end_time": "2023-12-03T11:37:45.190667",
     "exception": false,
     "start_time": "2023-12-03T11:37:45.167341",
     "status": "completed"
    },
    "tags": []
   },
   "outputs": [
    {
     "data": {
      "text/plain": [
       "array([ 38.65624111,  84.24936025,  83.19277794, 645.22064259,\n",
       "         2.11094987,   0.70699405,   9.38470287,   0.        ,\n",
       "         0.75604208,   0.        ])"
      ]
     },
     "execution_count": 21,
     "metadata": {},
     "output_type": "execute_result"
    }
   ],
   "source": [
    "mean"
   ]
  },
  {
   "cell_type": "code",
   "execution_count": 22,
   "id": "4c44104f",
   "metadata": {
    "execution": {
     "iopub.execute_input": "2023-12-03T11:37:45.220470Z",
     "iopub.status.busy": "2023-12-03T11:37:45.219812Z",
     "iopub.status.idle": "2023-12-03T11:37:45.227464Z",
     "shell.execute_reply": "2023-12-03T11:37:45.226387Z"
    },
    "papermill": {
     "duration": 0.025282,
     "end_time": "2023-12-03T11:37:45.229685",
     "exception": false,
     "start_time": "2023-12-03T11:37:45.204403",
     "status": "completed"
    },
    "tags": []
   },
   "outputs": [
    {
     "data": {
      "text/plain": [
       "array([ -6.50485112, -18.07867678,  -0.55977189,  -2.69824154,\n",
       "        -1.07989232,   0.20645059,  -0.7017549 ,   1.        ,\n",
       "         0.09843904,   1.        ])"
      ]
     },
     "execution_count": 22,
     "metadata": {},
     "output_type": "execute_result"
    }
   ],
   "source": [
    "temp = [1,1,1,1,1,1,1,1,1,1]\n",
    "(temp - mean) / std"
   ]
  },
  {
   "cell_type": "code",
   "execution_count": 23,
   "id": "7fd8e754",
   "metadata": {
    "execution": {
     "iopub.execute_input": "2023-12-03T11:37:45.260656Z",
     "iopub.status.busy": "2023-12-03T11:37:45.259964Z",
     "iopub.status.idle": "2023-12-03T11:37:45.266845Z",
     "shell.execute_reply": "2023-12-03T11:37:45.266023Z"
    },
    "papermill": {
     "duration": 0.024913,
     "end_time": "2023-12-03T11:37:45.269018",
     "exception": false,
     "start_time": "2023-12-03T11:37:45.244105",
     "status": "completed"
    },
    "tags": []
   },
   "outputs": [],
   "source": [
    "def process_input(data):\n",
    "    std = np.array([  5.78894742,   4.60483703, 146.83262808, 238.75573511,\n",
    "         1.02875985,   1.41925462,  11.94819279,   1.        ,\n",
    "         2.478264  ,   1.        ])\n",
    "    mean = np.array([ 38.65624111,  84.24936025,  83.19277794, 645.22064259,\n",
    "         2.11094987,   0.70699405,   9.38470287,   0.        ,\n",
    "         0.75604208,   0.        ])\n",
    "    \n",
    "    data = (data - mean) / std\n",
    "    df = pd.DataFrame([data])\n",
    "    return df"
   ]
  },
  {
   "cell_type": "code",
   "execution_count": 24,
   "id": "0daa9849",
   "metadata": {
    "execution": {
     "iopub.execute_input": "2023-12-03T11:37:45.300023Z",
     "iopub.status.busy": "2023-12-03T11:37:45.299322Z",
     "iopub.status.idle": "2023-12-03T11:37:45.316225Z",
     "shell.execute_reply": "2023-12-03T11:37:45.314992Z"
    },
    "papermill": {
     "duration": 0.035191,
     "end_time": "2023-12-03T11:37:45.318616",
     "exception": false,
     "start_time": "2023-12-03T11:37:45.283425",
     "status": "completed"
    },
    "tags": []
   },
   "outputs": [
    {
     "data": {
      "text/html": [
       "<div>\n",
       "<style scoped>\n",
       "    .dataframe tbody tr th:only-of-type {\n",
       "        vertical-align: middle;\n",
       "    }\n",
       "\n",
       "    .dataframe tbody tr th {\n",
       "        vertical-align: top;\n",
       "    }\n",
       "\n",
       "    .dataframe thead th {\n",
       "        text-align: right;\n",
       "    }\n",
       "</style>\n",
       "<table border=\"1\" class=\"dataframe\">\n",
       "  <thead>\n",
       "    <tr style=\"text-align: right;\">\n",
       "      <th></th>\n",
       "      <th>0</th>\n",
       "      <th>1</th>\n",
       "      <th>2</th>\n",
       "      <th>3</th>\n",
       "      <th>4</th>\n",
       "      <th>5</th>\n",
       "      <th>6</th>\n",
       "      <th>7</th>\n",
       "      <th>8</th>\n",
       "      <th>9</th>\n",
       "    </tr>\n",
       "  </thead>\n",
       "  <tbody>\n",
       "    <tr>\n",
       "      <th>0</th>\n",
       "      <td>1.959555</td>\n",
       "      <td>-3.094433</td>\n",
       "      <td>-0.53253</td>\n",
       "      <td>-1.445916</td>\n",
       "      <td>2.808284</td>\n",
       "      <td>2.320236</td>\n",
       "      <td>-0.534366</td>\n",
       "      <td>0.0</td>\n",
       "      <td>0.501947</td>\n",
       "      <td>0.0</td>\n",
       "    </tr>\n",
       "  </tbody>\n",
       "</table>\n",
       "</div>"
      ],
      "text/plain": [
       "          0         1        2         3         4         5         6    7  \\\n",
       "0  1.959555 -3.094433 -0.53253 -1.445916  2.808284  2.320236 -0.534366  0.0   \n",
       "\n",
       "          8    9  \n",
       "0  0.501947  0.0  "
      ]
     },
     "execution_count": 24,
     "metadata": {},
     "output_type": "execute_result"
    }
   ],
   "source": [
    "process_input([50,70,5,300,5,4,3,0,2,0])"
   ]
  },
  {
   "cell_type": "markdown",
   "id": "5d9e77fc",
   "metadata": {
    "papermill": {
     "duration": 0.014588,
     "end_time": "2023-12-03T11:37:45.347992",
     "exception": false,
     "start_time": "2023-12-03T11:37:45.333404",
     "status": "completed"
    },
    "tags": []
   },
   "source": [
    "The following is done by Yuekai Xu"
   ]
  },
  {
   "cell_type": "markdown",
   "id": "178af38d",
   "metadata": {
    "papermill": {
     "duration": 0.014899,
     "end_time": "2023-12-03T11:37:45.377919",
     "exception": false,
     "start_time": "2023-12-03T11:37:45.363020",
     "status": "completed"
    },
    "tags": []
   },
   "source": [
    "# Traning and Validation"
   ]
  },
  {
   "cell_type": "code",
   "execution_count": 25,
   "id": "24b316ad",
   "metadata": {
    "execution": {
     "iopub.execute_input": "2023-12-03T11:37:45.410385Z",
     "iopub.status.busy": "2023-12-03T11:37:45.409969Z",
     "iopub.status.idle": "2023-12-03T11:37:45.436065Z",
     "shell.execute_reply": "2023-12-03T11:37:45.434811Z"
    },
    "papermill": {
     "duration": 0.045551,
     "end_time": "2023-12-03T11:37:45.438799",
     "exception": false,
     "start_time": "2023-12-03T11:37:45.393248",
     "status": "completed"
    },
    "tags": []
   },
   "outputs": [],
   "source": [
    "data = pd.read_csv('/kaggle/input/inrix-hack-dataset/parking_safe_labeled_scaled.csv')"
   ]
  },
  {
   "cell_type": "code",
   "execution_count": 26,
   "id": "50eb83e4",
   "metadata": {
    "execution": {
     "iopub.execute_input": "2023-12-03T11:37:45.470890Z",
     "iopub.status.busy": "2023-12-03T11:37:45.470479Z",
     "iopub.status.idle": "2023-12-03T11:37:45.481572Z",
     "shell.execute_reply": "2023-12-03T11:37:45.480483Z"
    },
    "papermill": {
     "duration": 0.029845,
     "end_time": "2023-12-03T11:37:45.483861",
     "exception": false,
     "start_time": "2023-12-03T11:37:45.454016",
     "status": "completed"
    },
    "tags": []
   },
   "outputs": [
    {
     "data": {
      "text/plain": [
       "0      -14\n",
       "1      -14\n",
       "2      -14\n",
       "3      -12\n",
       "4      -11\n",
       "        ..\n",
       "3512   -14\n",
       "3513   -13\n",
       "3514   -13\n",
       "3515   -10\n",
       "3516   -13\n",
       "Name: rating, Length: 3517, dtype: int64"
      ]
     },
     "execution_count": 26,
     "metadata": {},
     "output_type": "execute_result"
    }
   ],
   "source": [
    "X = data[['pct', 'probability', 'available', 'distance', \n",
    "                 'price', 'stars']]\n",
    "y = data['rating']-15\n",
    "y"
   ]
  },
  {
   "cell_type": "code",
   "execution_count": 27,
   "id": "70475856",
   "metadata": {
    "execution": {
     "iopub.execute_input": "2023-12-03T11:37:45.515964Z",
     "iopub.status.busy": "2023-12-03T11:37:45.515515Z",
     "iopub.status.idle": "2023-12-03T11:37:45.522816Z",
     "shell.execute_reply": "2023-12-03T11:37:45.521991Z"
    },
    "papermill": {
     "duration": 0.025779,
     "end_time": "2023-12-03T11:37:45.524885",
     "exception": false,
     "start_time": "2023-12-03T11:37:45.499106",
     "status": "completed"
    },
    "tags": []
   },
   "outputs": [],
   "source": [
    "X, X_test, y, y_test = train_test_split(X, y, test_size=0.2, random_state=42)"
   ]
  },
  {
   "cell_type": "code",
   "execution_count": 28,
   "id": "8cf2402c",
   "metadata": {
    "execution": {
     "iopub.execute_input": "2023-12-03T11:37:45.557707Z",
     "iopub.status.busy": "2023-12-03T11:37:45.556570Z",
     "iopub.status.idle": "2023-12-03T11:37:45.561570Z",
     "shell.execute_reply": "2023-12-03T11:37:45.560747Z"
    },
    "papermill": {
     "duration": 0.023518,
     "end_time": "2023-12-03T11:37:45.563565",
     "exception": false,
     "start_time": "2023-12-03T11:37:45.540047",
     "status": "completed"
    },
    "tags": []
   },
   "outputs": [],
   "source": [
    "kf = KF(n_splits = 10, shuffle=True, random_state=42)"
   ]
  },
  {
   "cell_type": "code",
   "execution_count": 29,
   "id": "a926593e",
   "metadata": {
    "execution": {
     "iopub.execute_input": "2023-12-03T11:37:45.595638Z",
     "iopub.status.busy": "2023-12-03T11:37:45.594861Z",
     "iopub.status.idle": "2023-12-03T11:37:57.485768Z",
     "shell.execute_reply": "2023-12-03T11:37:57.484699Z"
    },
    "papermill": {
     "duration": 11.909429,
     "end_time": "2023-12-03T11:37:57.488144",
     "exception": false,
     "start_time": "2023-12-03T11:37:45.578715",
     "status": "completed"
    },
    "tags": []
   },
   "outputs": [
    {
     "name": "stderr",
     "output_type": "stream",
     "text": [
      "/opt/conda/lib/python3.10/site-packages/sklearn/ensemble/_forest.py:413: FutureWarning: `max_features='auto'` has been deprecated in 1.1 and will be removed in 1.3. To keep the past behaviour, explicitly set `max_features=1.0` or remove this parameter as it is also the default value for RandomForestRegressors and ExtraTreesRegressors.\n",
      "  warn(\n"
     ]
    },
    {
     "name": "stdout",
     "output_type": "stream",
     "text": [
      "Random Forest Regressor Mean Squared Error: 0.2822405863076125, KF: 1\n"
     ]
    },
    {
     "name": "stderr",
     "output_type": "stream",
     "text": [
      "/opt/conda/lib/python3.10/site-packages/sklearn/ensemble/_forest.py:413: FutureWarning: `max_features='auto'` has been deprecated in 1.1 and will be removed in 1.3. To keep the past behaviour, explicitly set `max_features=1.0` or remove this parameter as it is also the default value for RandomForestRegressors and ExtraTreesRegressors.\n",
      "  warn(\n",
      "/opt/conda/lib/python3.10/site-packages/sklearn/ensemble/_forest.py:413: FutureWarning: `max_features='auto'` has been deprecated in 1.1 and will be removed in 1.3. To keep the past behaviour, explicitly set `max_features=1.0` or remove this parameter as it is also the default value for RandomForestRegressors and ExtraTreesRegressors.\n",
      "  warn(\n"
     ]
    },
    {
     "name": "stdout",
     "output_type": "stream",
     "text": [
      "Random Forest Regressor Mean Squared Error: 0.1885802847711742, KF: 2\n"
     ]
    },
    {
     "name": "stderr",
     "output_type": "stream",
     "text": [
      "/opt/conda/lib/python3.10/site-packages/sklearn/ensemble/_forest.py:413: FutureWarning: `max_features='auto'` has been deprecated in 1.1 and will be removed in 1.3. To keep the past behaviour, explicitly set `max_features=1.0` or remove this parameter as it is also the default value for RandomForestRegressors and ExtraTreesRegressors.\n",
      "  warn(\n",
      "/opt/conda/lib/python3.10/site-packages/sklearn/ensemble/_forest.py:413: FutureWarning: `max_features='auto'` has been deprecated in 1.1 and will be removed in 1.3. To keep the past behaviour, explicitly set `max_features=1.0` or remove this parameter as it is also the default value for RandomForestRegressors and ExtraTreesRegressors.\n",
      "  warn(\n"
     ]
    },
    {
     "name": "stdout",
     "output_type": "stream",
     "text": [
      "Random Forest Regressor Mean Squared Error: 0.2098027861013365, KF: 3\n"
     ]
    },
    {
     "name": "stderr",
     "output_type": "stream",
     "text": [
      "/opt/conda/lib/python3.10/site-packages/sklearn/ensemble/_forest.py:413: FutureWarning: `max_features='auto'` has been deprecated in 1.1 and will be removed in 1.3. To keep the past behaviour, explicitly set `max_features=1.0` or remove this parameter as it is also the default value for RandomForestRegressors and ExtraTreesRegressors.\n",
      "  warn(\n",
      "/opt/conda/lib/python3.10/site-packages/sklearn/ensemble/_forest.py:413: FutureWarning: `max_features='auto'` has been deprecated in 1.1 and will be removed in 1.3. To keep the past behaviour, explicitly set `max_features=1.0` or remove this parameter as it is also the default value for RandomForestRegressors and ExtraTreesRegressors.\n",
      "  warn(\n"
     ]
    },
    {
     "name": "stdout",
     "output_type": "stream",
     "text": [
      "Random Forest Regressor Mean Squared Error: 0.30093968143902683, KF: 4\n"
     ]
    },
    {
     "name": "stderr",
     "output_type": "stream",
     "text": [
      "/opt/conda/lib/python3.10/site-packages/sklearn/ensemble/_forest.py:413: FutureWarning: `max_features='auto'` has been deprecated in 1.1 and will be removed in 1.3. To keep the past behaviour, explicitly set `max_features=1.0` or remove this parameter as it is also the default value for RandomForestRegressors and ExtraTreesRegressors.\n",
      "  warn(\n",
      "/opt/conda/lib/python3.10/site-packages/sklearn/ensemble/_forest.py:413: FutureWarning: `max_features='auto'` has been deprecated in 1.1 and will be removed in 1.3. To keep the past behaviour, explicitly set `max_features=1.0` or remove this parameter as it is also the default value for RandomForestRegressors and ExtraTreesRegressors.\n",
      "  warn(\n"
     ]
    },
    {
     "name": "stdout",
     "output_type": "stream",
     "text": [
      "Random Forest Regressor Mean Squared Error: 0.2578389090374238, KF: 5\n"
     ]
    },
    {
     "name": "stderr",
     "output_type": "stream",
     "text": [
      "/opt/conda/lib/python3.10/site-packages/sklearn/ensemble/_forest.py:413: FutureWarning: `max_features='auto'` has been deprecated in 1.1 and will be removed in 1.3. To keep the past behaviour, explicitly set `max_features=1.0` or remove this parameter as it is also the default value for RandomForestRegressors and ExtraTreesRegressors.\n",
      "  warn(\n",
      "/opt/conda/lib/python3.10/site-packages/sklearn/ensemble/_forest.py:413: FutureWarning: `max_features='auto'` has been deprecated in 1.1 and will be removed in 1.3. To keep the past behaviour, explicitly set `max_features=1.0` or remove this parameter as it is also the default value for RandomForestRegressors and ExtraTreesRegressors.\n",
      "  warn(\n"
     ]
    },
    {
     "name": "stdout",
     "output_type": "stream",
     "text": [
      "Random Forest Regressor Mean Squared Error: 0.386562560844332, KF: 6\n"
     ]
    },
    {
     "name": "stderr",
     "output_type": "stream",
     "text": [
      "/opt/conda/lib/python3.10/site-packages/sklearn/ensemble/_forest.py:413: FutureWarning: `max_features='auto'` has been deprecated in 1.1 and will be removed in 1.3. To keep the past behaviour, explicitly set `max_features=1.0` or remove this parameter as it is also the default value for RandomForestRegressors and ExtraTreesRegressors.\n",
      "  warn(\n",
      "/opt/conda/lib/python3.10/site-packages/sklearn/ensemble/_forest.py:413: FutureWarning: `max_features='auto'` has been deprecated in 1.1 and will be removed in 1.3. To keep the past behaviour, explicitly set `max_features=1.0` or remove this parameter as it is also the default value for RandomForestRegressors and ExtraTreesRegressors.\n",
      "  warn(\n"
     ]
    },
    {
     "name": "stdout",
     "output_type": "stream",
     "text": [
      "Random Forest Regressor Mean Squared Error: 0.16822158589587918, KF: 7\n"
     ]
    },
    {
     "name": "stderr",
     "output_type": "stream",
     "text": [
      "/opt/conda/lib/python3.10/site-packages/sklearn/ensemble/_forest.py:413: FutureWarning: `max_features='auto'` has been deprecated in 1.1 and will be removed in 1.3. To keep the past behaviour, explicitly set `max_features=1.0` or remove this parameter as it is also the default value for RandomForestRegressors and ExtraTreesRegressors.\n",
      "  warn(\n",
      "/opt/conda/lib/python3.10/site-packages/sklearn/ensemble/_forest.py:413: FutureWarning: `max_features='auto'` has been deprecated in 1.1 and will be removed in 1.3. To keep the past behaviour, explicitly set `max_features=1.0` or remove this parameter as it is also the default value for RandomForestRegressors and ExtraTreesRegressors.\n",
      "  warn(\n"
     ]
    },
    {
     "name": "stdout",
     "output_type": "stream",
     "text": [
      "Random Forest Regressor Mean Squared Error: 0.2587798677461408, KF: 8\n"
     ]
    },
    {
     "name": "stderr",
     "output_type": "stream",
     "text": [
      "/opt/conda/lib/python3.10/site-packages/sklearn/ensemble/_forest.py:413: FutureWarning: `max_features='auto'` has been deprecated in 1.1 and will be removed in 1.3. To keep the past behaviour, explicitly set `max_features=1.0` or remove this parameter as it is also the default value for RandomForestRegressors and ExtraTreesRegressors.\n",
      "  warn(\n",
      "/opt/conda/lib/python3.10/site-packages/sklearn/ensemble/_forest.py:413: FutureWarning: `max_features='auto'` has been deprecated in 1.1 and will be removed in 1.3. To keep the past behaviour, explicitly set `max_features=1.0` or remove this parameter as it is also the default value for RandomForestRegressors and ExtraTreesRegressors.\n",
      "  warn(\n"
     ]
    },
    {
     "name": "stdout",
     "output_type": "stream",
     "text": [
      "Random Forest Regressor Mean Squared Error: 0.28601749174522517, KF: 9\n"
     ]
    },
    {
     "name": "stderr",
     "output_type": "stream",
     "text": [
      "/opt/conda/lib/python3.10/site-packages/sklearn/ensemble/_forest.py:413: FutureWarning: `max_features='auto'` has been deprecated in 1.1 and will be removed in 1.3. To keep the past behaviour, explicitly set `max_features=1.0` or remove this parameter as it is also the default value for RandomForestRegressors and ExtraTreesRegressors.\n",
      "  warn(\n",
      "/opt/conda/lib/python3.10/site-packages/sklearn/ensemble/_forest.py:413: FutureWarning: `max_features='auto'` has been deprecated in 1.1 and will be removed in 1.3. To keep the past behaviour, explicitly set `max_features=1.0` or remove this parameter as it is also the default value for RandomForestRegressors and ExtraTreesRegressors.\n",
      "  warn(\n"
     ]
    },
    {
     "name": "stdout",
     "output_type": "stream",
     "text": [
      "Random Forest Regressor Mean Squared Error: 0.23752862268121416, KF: 10\n"
     ]
    },
    {
     "name": "stderr",
     "output_type": "stream",
     "text": [
      "/opt/conda/lib/python3.10/site-packages/sklearn/ensemble/_forest.py:413: FutureWarning: `max_features='auto'` has been deprecated in 1.1 and will be removed in 1.3. To keep the past behaviour, explicitly set `max_features=1.0` or remove this parameter as it is also the default value for RandomForestRegressors and ExtraTreesRegressors.\n",
      "  warn(\n"
     ]
    },
    {
     "data": {
      "text/html": [
       "<style>#sk-container-id-1 {color: black;background-color: white;}#sk-container-id-1 pre{padding: 0;}#sk-container-id-1 div.sk-toggleable {background-color: white;}#sk-container-id-1 label.sk-toggleable__label {cursor: pointer;display: block;width: 100%;margin-bottom: 0;padding: 0.3em;box-sizing: border-box;text-align: center;}#sk-container-id-1 label.sk-toggleable__label-arrow:before {content: \"▸\";float: left;margin-right: 0.25em;color: #696969;}#sk-container-id-1 label.sk-toggleable__label-arrow:hover:before {color: black;}#sk-container-id-1 div.sk-estimator:hover label.sk-toggleable__label-arrow:before {color: black;}#sk-container-id-1 div.sk-toggleable__content {max-height: 0;max-width: 0;overflow: hidden;text-align: left;background-color: #f0f8ff;}#sk-container-id-1 div.sk-toggleable__content pre {margin: 0.2em;color: black;border-radius: 0.25em;background-color: #f0f8ff;}#sk-container-id-1 input.sk-toggleable__control:checked~div.sk-toggleable__content {max-height: 200px;max-width: 100%;overflow: auto;}#sk-container-id-1 input.sk-toggleable__control:checked~label.sk-toggleable__label-arrow:before {content: \"▾\";}#sk-container-id-1 div.sk-estimator input.sk-toggleable__control:checked~label.sk-toggleable__label {background-color: #d4ebff;}#sk-container-id-1 div.sk-label input.sk-toggleable__control:checked~label.sk-toggleable__label {background-color: #d4ebff;}#sk-container-id-1 input.sk-hidden--visually {border: 0;clip: rect(1px 1px 1px 1px);clip: rect(1px, 1px, 1px, 1px);height: 1px;margin: -1px;overflow: hidden;padding: 0;position: absolute;width: 1px;}#sk-container-id-1 div.sk-estimator {font-family: monospace;background-color: #f0f8ff;border: 1px dotted black;border-radius: 0.25em;box-sizing: border-box;margin-bottom: 0.5em;}#sk-container-id-1 div.sk-estimator:hover {background-color: #d4ebff;}#sk-container-id-1 div.sk-parallel-item::after {content: \"\";width: 100%;border-bottom: 1px solid gray;flex-grow: 1;}#sk-container-id-1 div.sk-label:hover label.sk-toggleable__label {background-color: #d4ebff;}#sk-container-id-1 div.sk-serial::before {content: \"\";position: absolute;border-left: 1px solid gray;box-sizing: border-box;top: 0;bottom: 0;left: 50%;z-index: 0;}#sk-container-id-1 div.sk-serial {display: flex;flex-direction: column;align-items: center;background-color: white;padding-right: 0.2em;padding-left: 0.2em;position: relative;}#sk-container-id-1 div.sk-item {position: relative;z-index: 1;}#sk-container-id-1 div.sk-parallel {display: flex;align-items: stretch;justify-content: center;background-color: white;position: relative;}#sk-container-id-1 div.sk-item::before, #sk-container-id-1 div.sk-parallel-item::before {content: \"\";position: absolute;border-left: 1px solid gray;box-sizing: border-box;top: 0;bottom: 0;left: 50%;z-index: -1;}#sk-container-id-1 div.sk-parallel-item {display: flex;flex-direction: column;z-index: 1;position: relative;background-color: white;}#sk-container-id-1 div.sk-parallel-item:first-child::after {align-self: flex-end;width: 50%;}#sk-container-id-1 div.sk-parallel-item:last-child::after {align-self: flex-start;width: 50%;}#sk-container-id-1 div.sk-parallel-item:only-child::after {width: 0;}#sk-container-id-1 div.sk-dashed-wrapped {border: 1px dashed gray;margin: 0 0.4em 0.5em 0.4em;box-sizing: border-box;padding-bottom: 0.4em;background-color: white;}#sk-container-id-1 div.sk-label label {font-family: monospace;font-weight: bold;display: inline-block;line-height: 1.2em;}#sk-container-id-1 div.sk-label-container {text-align: center;}#sk-container-id-1 div.sk-container {/* jupyter's `normalize.less` sets `[hidden] { display: none; }` but bootstrap.min.css set `[hidden] { display: none !important; }` so we also need the `!important` here to be able to override the default hidden behavior on the sphinx rendered scikit-learn.org. See: https://github.com/scikit-learn/scikit-learn/issues/21755 */display: inline-block !important;position: relative;}#sk-container-id-1 div.sk-text-repr-fallback {display: none;}</style><div id=\"sk-container-id-1\" class=\"sk-top-container\"><div class=\"sk-text-repr-fallback\"><pre>RandomForestRegressor(max_depth=10, max_features=&#x27;auto&#x27;, random_state=42)</pre><b>In a Jupyter environment, please rerun this cell to show the HTML representation or trust the notebook. <br />On GitHub, the HTML representation is unable to render, please try loading this page with nbviewer.org.</b></div><div class=\"sk-container\" hidden><div class=\"sk-item\"><div class=\"sk-estimator sk-toggleable\"><input class=\"sk-toggleable__control sk-hidden--visually\" id=\"sk-estimator-id-1\" type=\"checkbox\" checked><label for=\"sk-estimator-id-1\" class=\"sk-toggleable__label sk-toggleable__label-arrow\">RandomForestRegressor</label><div class=\"sk-toggleable__content\"><pre>RandomForestRegressor(max_depth=10, max_features=&#x27;auto&#x27;, random_state=42)</pre></div></div></div></div></div>"
      ],
      "text/plain": [
       "RandomForestRegressor(max_depth=10, max_features='auto', random_state=42)"
      ]
     },
     "execution_count": 29,
     "metadata": {},
     "output_type": "execute_result"
    }
   ],
   "source": [
    "model = RandomForestRegressor(n_estimators=100, max_depth=10, max_features='auto', bootstrap=True, random_state=42)\n",
    "\n",
    "count = 1\n",
    "name = 'Random Forest Regressor'\n",
    "for train, test in kf.split(X): \n",
    "    X_train, X_test, y_train, y_test = X.iloc[train], X.iloc[test], y.iloc[train], y.iloc[test]\n",
    "\n",
    "    model.fit(X_train, y_train)\n",
    "    y_p = model.predict(X_test)\n",
    "\n",
    "    mse = mean_squared_error(y_test, y_p)\n",
    "    print(f\"{name} Mean Squared Error: {mse}, KF: {count}\")\n",
    "    count = count +1\n",
    "        \n",
    "    model.fit(X_train, y_train)\n",
    "    \n",
    "model"
   ]
  },
  {
   "cell_type": "code",
   "execution_count": 30,
   "id": "b87a95b6",
   "metadata": {
    "execution": {
     "iopub.execute_input": "2023-12-03T11:37:57.528240Z",
     "iopub.status.busy": "2023-12-03T11:37:57.527836Z",
     "iopub.status.idle": "2023-12-03T11:37:57.598165Z",
     "shell.execute_reply": "2023-12-03T11:37:57.596936Z"
    },
    "papermill": {
     "duration": 0.093465,
     "end_time": "2023-12-03T11:37:57.600743",
     "exception": false,
     "start_time": "2023-12-03T11:37:57.507278",
     "status": "completed"
    },
    "tags": []
   },
   "outputs": [
    {
     "data": {
      "text/plain": [
       "['randomForest.joblib']"
      ]
     },
     "execution_count": 30,
     "metadata": {},
     "output_type": "execute_result"
    }
   ],
   "source": [
    "from sklearn.ensemble import RandomForestRegressor\n",
    "from joblib import dump\n",
    "\n",
    "model_filename = 'randomForest.joblib'\n",
    "dump(model, model_filename)"
   ]
  }
 ],
 "metadata": {
  "kaggle": {
   "accelerator": "none",
   "dataSources": [
    {
     "datasetId": 4098431,
     "sourceId": 7111903,
     "sourceType": "datasetVersion"
    }
   ],
   "dockerImageVersionId": 30587,
   "isGpuEnabled": false,
   "isInternetEnabled": true,
   "language": "python",
   "sourceType": "notebook"
  },
  "kernelspec": {
   "display_name": "Python 3",
   "language": "python",
   "name": "python3"
  },
  "language_info": {
   "codemirror_mode": {
    "name": "ipython",
    "version": 3
   },
   "file_extension": ".py",
   "mimetype": "text/x-python",
   "name": "python",
   "nbconvert_exporter": "python",
   "pygments_lexer": "ipython3",
   "version": "3.10.12"
  },
  "papermill": {
   "default_parameters": {},
   "duration": 196.014949,
   "end_time": "2023-12-03T11:37:58.241569",
   "environment_variables": {},
   "exception": null,
   "input_path": "__notebook__.ipynb",
   "output_path": "__notebook__.ipynb",
   "parameters": {},
   "start_time": "2023-12-03T11:34:42.226620",
   "version": "2.4.0"
  }
 },
 "nbformat": 4,
 "nbformat_minor": 5
}
